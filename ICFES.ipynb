{
 "cells": [
  {
   "cell_type": "code",
   "execution_count": 1,
   "id": "4db82626",
   "metadata": {},
   "outputs": [],
   "source": [
    "import pandas as pd"
   ]
  },
  {
   "cell_type": "code",
   "execution_count": 2,
   "id": "a6e53a36",
   "metadata": {},
   "outputs": [
    {
     "name": "stderr",
     "output_type": "stream",
     "text": [
      "C:\\Users\\jorge\\AppData\\Local\\Temp\\ipykernel_20664\\835079623.py:1: DtypeWarning: Columns (76,78) have mixed types. Specify dtype option on import or set low_memory=False.\n",
      "  df = pd.read_csv('Saber_11__2019-2.csv')\n"
     ]
    }
   ],
   "source": [
    "df = pd.read_csv('Saber_11__2019-2.csv')"
   ]
  },
  {
   "cell_type": "code",
   "execution_count": 3,
   "id": "e5fb120b",
   "metadata": {},
   "outputs": [
    {
     "data": {
      "text/plain": [
       "Index(['ESTU_TIPODOCUMENTO', 'ESTU_NACIONALIDAD', 'ESTU_GENERO',\n",
       "       'ESTU_FECHANACIMIENTO', 'PERIODO', 'ESTU_CONSECUTIVO',\n",
       "       'ESTU_ESTUDIANTE', 'ESTU_TIENEETNIA', 'ESTU_PAIS_RESIDE', 'ESTU_ETNIA',\n",
       "       'ESTU_DEPTO_RESIDE', 'ESTU_COD_RESIDE_DEPTO', 'ESTU_MCPIO_RESIDE',\n",
       "       'ESTU_COD_RESIDE_MCPIO', 'FAMI_ESTRATOVIVIENDA', 'FAMI_PERSONASHOGAR',\n",
       "       'FAMI_CUARTOSHOGAR', 'FAMI_EDUCACIONPADRE', 'FAMI_EDUCACIONMADRE',\n",
       "       'FAMI_TRABAJOLABORPADRE', 'FAMI_TRABAJOLABORMADRE',\n",
       "       'FAMI_TIENEINTERNET', 'FAMI_TIENESERVICIOTV', 'FAMI_TIENECOMPUTADOR',\n",
       "       'FAMI_TIENELAVADORA', 'FAMI_TIENEHORNOMICROOGAS', 'FAMI_TIENEAUTOMOVIL',\n",
       "       'FAMI_TIENEMOTOCICLETA', 'FAMI_TIENECONSOLAVIDEOJUEGOS',\n",
       "       'FAMI_NUMLIBROS', 'FAMI_COMELECHEDERIVADOS',\n",
       "       'FAMI_COMECARNEPESCADOHUEVO', 'FAMI_COMECEREALFRUTOSLEGUMBRE',\n",
       "       'FAMI_SITUACIONECONOMICA', 'ESTU_DEDICACIONLECTURADIARIA',\n",
       "       'ESTU_DEDICACIONINTERNET', 'ESTU_HORASSEMANATRABAJA',\n",
       "       'ESTU_TIPOREMUNERACION', 'COLE_CODIGO_ICFES',\n",
       "       'COLE_COD_DANE_ESTABLECIMIENTO', 'COLE_NOMBRE_ESTABLECIMIENTO',\n",
       "       'COLE_GENERO', 'COLE_NATURALEZA', 'COLE_CALENDARIO', 'COLE_BILINGUE',\n",
       "       'COLE_CARACTER', 'COLE_COD_DANE_SEDE', 'COLE_NOMBRE_SEDE',\n",
       "       'COLE_SEDE_PRINCIPAL', 'COLE_AREA_UBICACION', 'COLE_JORNADA',\n",
       "       'COLE_COD_MCPIO_UBICACION', 'COLE_MCPIO_UBICACION',\n",
       "       'COLE_COD_DEPTO_UBICACION', 'COLE_DEPTO_UBICACION',\n",
       "       'ESTU_PRIVADO_LIBERTAD', 'ESTU_COD_MCPIO_PRESENTACION',\n",
       "       'ESTU_MCPIO_PRESENTACION', 'ESTU_DEPTO_PRESENTACION',\n",
       "       'ESTU_COD_DEPTO_PRESENTACION', 'PUNT_LECTURA_CRITICA',\n",
       "       'PERCENTIL_LECTURA_CRITICA', 'DESEMP_LECTURA_CRITICA',\n",
       "       'PUNT_MATEMATICAS', 'PERCENTIL_MATEMATICAS', 'DESEMP_MATEMATICAS',\n",
       "       'PUNT_C_NATURALES', 'PERCENTIL_C_NATURALES', 'DESEMP_C_NATURALES',\n",
       "       'PUNT_SOCIALES_CIUDADANAS', 'PERCENTIL_SOCIALES_CIUDADANAS',\n",
       "       'DESEMP_SOCIALES_CIUDADANAS', 'PUNT_INGLES', 'PERCENTIL_INGLES',\n",
       "       'DESEMP_INGLES', 'PUNT_GLOBAL', 'PERCENTIL_GLOBAL',\n",
       "       'ESTU_INSE_INDIVIDUAL', 'ESTU_NSE_INDIVIDUAL',\n",
       "       'ESTU_NSE_ESTABLECIMIENTO', 'ESTU_ESTADOINVESTIGACION',\n",
       "       'ESTU_GENERACION-E'],\n",
       "      dtype='object')"
      ]
     },
     "execution_count": 3,
     "metadata": {},
     "output_type": "execute_result"
    }
   ],
   "source": [
    "df.columns"
   ]
  },
  {
   "cell_type": "code",
   "execution_count": 4,
   "id": "af90dda0",
   "metadata": {},
   "outputs": [
    {
     "data": {
      "text/plain": [
       "82"
      ]
     },
     "execution_count": 4,
     "metadata": {},
     "output_type": "execute_result"
    }
   ],
   "source": [
    "len(df.columns)"
   ]
  },
  {
   "cell_type": "code",
   "execution_count": 5,
   "id": "dfb8556c",
   "metadata": {
    "scrolled": false
   },
   "outputs": [
    {
     "name": "stdout",
     "output_type": "stream",
     "text": [
      "ESTU_TIPODOCUMENTO : 10\n",
      "['TI' 'CC' 'PEP' 'CE' 'NES' 'PE' 'CR' 'CCB' 'PC' 'RC']\n",
      "\n",
      "ESTU_NACIONALIDAD : 33\n",
      "['COLOMBIA' 'VENEZUELA' 'ESPAÑA' 'ECUADOR' 'CROACIA' 'PERÚ' 'ITALIA'\n",
      " 'ESTADOS UNIDOS' 'FRANCIA' 'EL SALVADOR' 'COSTA RICA' 'ARGENTINA'\n",
      " 'ALBANIA' 'TAIWAN' 'CUBA' 'CHILE' 'MÉXICO' 'ALEMANIA' 'ARUBA' 'BRASIL'\n",
      " 'REINO UNIDO' 'DINAMARCA' 'PAÍSES BAJOS - HOLANDA' 'COMORAS'\n",
      " 'REPÚBLICA DOMINICANA' 'BOLIVIA' 'CHINA' 'BÉLGICA' 'PANAMÁ' 'AFGANISTÁN'\n",
      " 'COREA DEL NORTE' 'CURAZAO' 'VANUATU']\n",
      "\n",
      "ESTU_GENERO : 3\n",
      "['M' 'F' '-']\n",
      "\n",
      "ESTU_FECHANACIMIENTO : 11663\n",
      "\n",
      "PERIODO : 1\n",
      "[20194]\n",
      "\n",
      "ESTU_CONSECUTIVO : 546212\n",
      "\n",
      "ESTU_ESTUDIANTE : 1\n",
      "['ESTUDIANTE']\n",
      "\n",
      "ESTU_TIENEETNIA : 3\n",
      "['No' 'Si' '-']\n",
      "\n",
      "ESTU_PAIS_RESIDE : 33\n",
      "['COLOMBIA' 'VENEZUELA' 'ESPAÑA' 'ECUADOR' 'CROACIA' 'PERÚ' 'ITALIA'\n",
      " 'ESTADOS UNIDOS' 'FRANCIA' 'EL SALVADOR' 'COSTA RICA' 'ARGENTINA'\n",
      " 'ALBANIA' 'TAIWAN' 'CUBA' 'CHILE' 'MÉXICO' 'ALEMANIA' 'ARUBA' 'BRASIL'\n",
      " 'REINO UNIDO' 'DINAMARCA' 'PAÍSES BAJOS - HOLANDA' 'COMORAS'\n",
      " 'REPÚBLICA DOMINICANA' 'BOLIVIA' 'CHINA' 'BÉLGICA' 'PANAMÁ' 'AFGANISTÁN'\n",
      " 'COREA DEL NORTE' 'CURAZAO' 'VANUATU']\n",
      "\n",
      "ESTU_ETNIA : 21\n",
      "['-' 'Ninguno' 'Comunidad afrodescendiente' 'Paez' 'Zenú'\n",
      " 'Otro grupo étnico minoritario' 'Wayúu' 'Emberá' 'Pijao' 'Cubeo'\n",
      " 'Guambiano' 'Raizal' 'Sikuani' 'Inga' 'Pasto' 'Huitoto' 'Arhuaco'\n",
      " 'Cancuamo' 'Palenquero' 'Tucano' 'Comunidades Rom (Gitanas)']\n",
      "\n",
      "ESTU_DEPTO_RESIDE : 35\n",
      "['MAGDALENA' 'BOGOTÁ' 'BOLIVAR' 'ATLANTICO' 'VALLE' 'SANTANDER'\n",
      " 'CUNDINAMARCA' 'SUCRE' 'ANTIOQUIA' 'CESAR' 'BOYACA' 'HUILA' 'CASANARE'\n",
      " 'CAUCA' 'CORDOBA' 'NORTE SANTANDER' 'QUINDIO' 'ARAUCA' 'META' 'CHOCO'\n",
      " 'LA GUAJIRA' 'SAN ANDRES' 'TOLIMA' 'NARIÑO' 'CALDAS' 'VAUPES' 'RISARALDA'\n",
      " 'PUTUMAYO' 'VICHADA' 'CAQUETA' nan 'AMAZONAS' 'GUAVIARE' 'GUAINIA'\n",
      " 'EXTRANJERO']\n",
      "\n",
      "ESTU_COD_RESIDE_DEPTO : 35\n",
      "['47' '11' '13' '08' '76' '68' '25' '70' '05' '20' '15' '41' '85' '19'\n",
      " '23' '54' '63' '81' '50' '27' '44' '88' '73' '52' '17' '97' '66' '86'\n",
      " '99' '18' '-' '91' '95' '94' '99999']\n",
      "\n",
      "ESTU_MCPIO_RESIDE : 1032\n",
      "\n",
      "ESTU_COD_RESIDE_MCPIO : 1115\n",
      "\n",
      "FAMI_ESTRATOVIVIENDA : 9\n",
      "['Estrato 3' 'Estrato 1' '-' 'Estrato 4' 'Estrato 2' 'Estrato 5'\n",
      " 'Sin Estrato' 'Estrato 6' nan]\n",
      "\n",
      "FAMI_PERSONASHOGAR : 7\n",
      "['5 a 6' '9 o más' '3 a 4' '7 a 8' '-' nan '1 a 2']\n",
      "\n",
      "FAMI_CUARTOSHOGAR : 8\n",
      "['Cinco' 'Tres' 'Dos' 'Cuatro' nan 'Uno' '-' 'Seis o mas']\n",
      "\n",
      "FAMI_EDUCACIONPADRE : 14\n",
      "['Educación profesional completa' 'Técnica o tecnológica completa'\n",
      " 'Secundaria (Bachillerato) completa' 'Primaria incompleta' '-' 'No sabe'\n",
      " 'Secundaria (Bachillerato) incompleta' 'Primaria completa' nan\n",
      " 'Educación profesional incompleta' 'Postgrado'\n",
      " 'Técnica o tecnológica incompleta' 'No Aplica' 'Ninguno']\n",
      "\n",
      "FAMI_EDUCACIONMADRE : 14\n",
      "['Secundaria (Bachillerato) completa' 'Técnica o tecnológica completa'\n",
      " 'Secundaria (Bachillerato) incompleta' nan 'Postgrado'\n",
      " 'Educación profesional completa' 'No sabe'\n",
      " 'Educación profesional incompleta' '-' 'Ninguno'\n",
      " 'Técnica o tecnológica incompleta' 'Primaria incompleta'\n",
      " 'Primaria completa' 'No Aplica']\n",
      "\n",
      "FAMI_TRABAJOLABORPADRE : 15\n",
      "['No aplica'\n",
      " 'Trabaja por cuenta propia (por ejemplo plomero, electricista)'\n",
      " 'Es vendedor o trabaja en atención al público'\n",
      " 'Trabaja en el hogar, no trabaja o estudia'\n",
      " 'Tiene un trabajo de tipo auxiliar administrativo (por ejemplo, secretario o asistente)'\n",
      " 'No sabe'\n",
      " 'Es dueño de un negocio pequeño (tiene pocos empleados o no tiene, por ejemplo tienda, papelería, etc'\n",
      " 'Es operario de máquinas o conduce vehículos (taxita, chofer)' '-' nan\n",
      " 'Trabaja como profesional (por ejemplo médico, abogado, ingeniero)'\n",
      " 'Es dueño de un negocio grande, tiene un cargo de nivel directivo o gerencial'\n",
      " 'Trabaja como personal de limpieza, mantenimiento, seguridad o construcción'\n",
      " 'Es agricultor, pesquero o jornalero' 'Pensionado']\n",
      "\n",
      "FAMI_TRABAJOLABORMADRE : 15\n",
      "['Trabaja en el hogar, no trabaja o estudia'\n",
      " 'Es dueño de un negocio pequeño (tiene pocos empleados o no tiene, por ejemplo tienda, papelería, etc'\n",
      " 'Es vendedor o trabaja en atención al público'\n",
      " 'Trabaja como profesional (por ejemplo médico, abogado, ingeniero)'\n",
      " 'Tiene un trabajo de tipo auxiliar administrativo (por ejemplo, secretario o asistente)'\n",
      " 'No sabe' nan '-'\n",
      " 'Trabaja por cuenta propia (por ejemplo plomero, electricista)'\n",
      " 'Trabaja como personal de limpieza, mantenimiento, seguridad o construcción'\n",
      " 'Es agricultor, pesquero o jornalero'\n",
      " 'Es dueño de un negocio grande, tiene un cargo de nivel directivo o gerencial'\n",
      " 'No aplica' 'Pensionado'\n",
      " 'Es operario de máquinas o conduce vehículos (taxita, chofer)']\n",
      "\n",
      "FAMI_TIENEINTERNET : 4\n",
      "['Si' 'No' '-' nan]\n",
      "\n",
      "FAMI_TIENESERVICIOTV : 4\n",
      "['Si' 'No' nan '-']\n",
      "\n",
      "FAMI_TIENECOMPUTADOR : 4\n",
      "['No' 'Si' '-' nan]\n",
      "\n",
      "FAMI_TIENELAVADORA : 4\n",
      "['Si' 'No' nan '-']\n",
      "\n",
      "FAMI_TIENEHORNOMICROOGAS : 4\n",
      "['Si' 'No' '-' nan]\n",
      "\n",
      "FAMI_TIENEAUTOMOVIL : 4\n",
      "['No' 'Si' nan '-']\n",
      "\n",
      "FAMI_TIENEMOTOCICLETA : 4\n",
      "['No' 'Si' '-' nan]\n",
      "\n",
      "FAMI_TIENECONSOLAVIDEOJUEGOS : 4\n",
      "['No' 'Si' nan '-']\n",
      "\n",
      "FAMI_NUMLIBROS : 6\n",
      "['MÁS DE 100 LIBROS' '26 A 100 LIBROS' '11 A 25 LIBROS' '-'\n",
      " '0 A 10 LIBROS' nan]\n",
      "\n",
      "FAMI_COMELECHEDERIVADOS : 6\n",
      "['1 o 2 veces por semana' 'Todos o casi todos los días' nan\n",
      " '3 a 5 veces por semana' 'Nunca o rara vez comemos eso' '-']\n",
      "\n",
      "FAMI_COMECARNEPESCADOHUEVO : 6\n",
      "['3 a 5 veces por semana' 'Todos o casi todos los días'\n",
      " 'Nunca o rara vez comemos eso' '-' '1 o 2 veces por semana' nan]\n",
      "\n",
      "FAMI_COMECEREALFRUTOSLEGUMBRE : 6\n",
      "['Nunca o rara vez comemos eso' '1 o 2 veces por semana'\n",
      " '3 a 5 veces por semana' 'Todos o casi todos los días' nan '-']\n",
      "\n",
      "FAMI_SITUACIONECONOMICA : 5\n",
      "['Peor' 'Mejor' 'Igual' '-' nan]\n",
      "\n",
      "ESTU_DEDICACIONLECTURADIARIA : 7\n",
      "['Entre 30 y 60 minutos' '30 minutos o menos' 'No leo por entretenimiento'\n",
      " '-' 'Entre 1 y 2 horas' 'Más de 2 horas' nan]\n",
      "\n",
      "ESTU_DEDICACIONINTERNET : 7\n",
      "['Entre 30 y 60 minutos' 'Más de 3 horas' nan 'Entre 1 y 3 horas'\n",
      " 'No Navega Internet' '30 minutos o menos' '-']\n",
      "\n",
      "ESTU_HORASSEMANATRABAJA : 7\n",
      "['Menos de 10 horas' '0' 'Más de 30 horas' '-' 'Entre 21 y 30 horas'\n",
      " 'Entre 11 y 20 horas' nan]\n",
      "\n",
      "ESTU_TIPOREMUNERACION : 6\n",
      "['Si, en efectivo' 'No' 'Si, en efectivo y especie' nan 'Si, en especie'\n",
      " '-']\n",
      "\n",
      "COLE_CODIGO_ICFES : 13297\n",
      "\n",
      "COLE_COD_DANE_ESTABLECIMIENTO : 10157\n",
      "\n",
      "COLE_NOMBRE_ESTABLECIMIENTO : 9372\n",
      "\n",
      "COLE_GENERO : 3\n",
      "['MIXTO' 'MASCULINO' 'FEMENINO']\n",
      "\n",
      "COLE_NATURALEZA : 2\n",
      "['OFICIAL' 'NO OFICIAL']\n",
      "\n",
      "COLE_CALENDARIO : 3\n",
      "['A' 'OTRO' 'B']\n",
      "\n",
      "COLE_BILINGUE : 3\n",
      "['N' '-' 'S']\n",
      "\n",
      "COLE_CARACTER : 6\n",
      "['TÉCNICO/ACADÉMICO' 'ACADÉMICO' nan 'TÉCNICO' 'NO APLICA' '-']\n",
      "\n",
      "COLE_COD_DANE_SEDE : 10939\n",
      "\n",
      "COLE_NOMBRE_SEDE : 10284\n",
      "\n",
      "COLE_SEDE_PRINCIPAL : 2\n",
      "['S' 'N']\n",
      "\n",
      "COLE_AREA_UBICACION : 2\n",
      "['URBANO' 'RURAL']\n",
      "\n",
      "COLE_JORNADA : 6\n",
      "['MAÑANA' 'COMPLETA' 'NOCHE' 'UNICA' 'TARDE' 'SABATINA']\n",
      "\n",
      "COLE_COD_MCPIO_UBICACION : 1113\n",
      "\n",
      "COLE_MCPIO_UBICACION : 1030\n",
      "\n",
      "COLE_COD_DEPTO_UBICACION : 33\n",
      "[47 11 13  8 76 68 25 70  5 20 15 41 85 19 23 54 63 81 50 27 44 88 73 52\n",
      " 17 97 66 86 99 18 91 95 94]\n",
      "\n",
      "COLE_DEPTO_UBICACION : 33\n",
      "['MAGDALENA' 'BOGOTÁ' 'BOLIVAR' 'ATLANTICO' 'VALLE' 'SANTANDER'\n",
      " 'CUNDINAMARCA' 'SUCRE' 'ANTIOQUIA' 'CESAR' 'BOYACA' 'HUILA' 'CASANARE'\n",
      " 'CAUCA' 'CORDOBA' 'NORTE SANTANDER' 'QUINDIO' 'ARAUCA' 'META' 'CHOCO'\n",
      " 'LA GUAJIRA' 'SAN ANDRES' 'TOLIMA' 'NARIÑO' 'CALDAS' 'VAUPES' 'RISARALDA'\n",
      " 'PUTUMAYO' 'VICHADA' 'CAQUETA' 'AMAZONAS' 'GUAVIARE' 'GUAINIA']\n",
      "\n",
      "ESTU_PRIVADO_LIBERTAD : 2\n",
      "['N' 'S']\n",
      "\n",
      "ESTU_COD_MCPIO_PRESENTACION : 488\n",
      "\n",
      "ESTU_MCPIO_PRESENTACION : 472\n",
      "\n",
      "ESTU_DEPTO_PRESENTACION : 33\n",
      "['MAGDALENA' 'BOGOTÁ' 'BOLIVAR' 'ATLANTICO' 'VALLE' 'SANTANDER'\n",
      " 'CUNDINAMARCA' 'SUCRE' 'ANTIOQUIA' 'CESAR' 'BOYACA' 'HUILA' 'CASANARE'\n",
      " 'CAUCA' 'CORDOBA' 'NORTE SANTANDER' 'QUINDIO' 'ARAUCA' 'META' 'CHOCO'\n",
      " 'LA GUAJIRA' 'SAN ANDRES' 'TOLIMA' 'NARIÑO' 'CALDAS' 'VAUPES' 'RISARALDA'\n",
      " 'PUTUMAYO' 'VICHADA' 'CAQUETA' 'AMAZONAS' 'GUAVIARE' 'GUAINIA']\n",
      "\n",
      "ESTU_COD_DEPTO_PRESENTACION : 33\n",
      "[47 11 13  8 76 68 25 70  5 20 15 41 85 19 23 54 63 81 50 27 44 88 73 52\n",
      " 17 97 66 86 99 18 91 95 94]\n",
      "\n",
      "PUNT_LECTURA_CRITICA : 65\n",
      "\n",
      "PERCENTIL_LECTURA_CRITICA : 100\n",
      "\n",
      "DESEMP_LECTURA_CRITICA : 4\n",
      "[2 3 4 1]\n",
      "\n",
      "PUNT_MATEMATICAS : 73\n",
      "\n",
      "PERCENTIL_MATEMATICAS : 100\n",
      "\n",
      "DESEMP_MATEMATICAS : 4\n",
      "[2 3 1 4]\n",
      "\n",
      "PUNT_C_NATURALES : 66\n",
      "\n",
      "PERCENTIL_C_NATURALES : 100\n",
      "\n",
      "DESEMP_C_NATURALES : 4\n",
      "[1 2 3 4]\n",
      "\n",
      "PUNT_SOCIALES_CIUDADANAS : 70\n",
      "\n",
      "PERCENTIL_SOCIALES_CIUDADANAS : 100\n",
      "\n",
      "DESEMP_SOCIALES_CIUDADANAS : 4\n",
      "[1 3 4 2]\n",
      "\n",
      "PUNT_INGLES : 71\n",
      "\n",
      "PERCENTIL_INGLES : 100\n",
      "\n",
      "DESEMP_INGLES : 5\n",
      "['A1' 'A2' 'A-' 'B1' 'B+']\n",
      "\n",
      "PUNT_GLOBAL : 389\n",
      "\n",
      "PERCENTIL_GLOBAL : 201\n",
      "\n",
      "ESTU_INSE_INDIVIDUAL : 469866\n"
     ]
    },
    {
     "name": "stdout",
     "output_type": "stream",
     "text": [
      "\n",
      "ESTU_NSE_INDIVIDUAL : 10\n",
      "[2.0 3.0 4.0 nan 1.0 '3' '4' '2' '1' '-']\n",
      "\n",
      "ESTU_NSE_ESTABLECIMIENTO : 5\n",
      "[ 2.  4.  3.  1. nan]\n",
      "\n",
      "ESTU_ESTADOINVESTIGACION : 3\n",
      "['PUBLICAR' 'NO SE COMPROBO IDENTIDAD DEL EXAMINADO'\n",
      " 'VALIDEZ OFICINA JURÍDICA']\n",
      "\n",
      "ESTU_GENERACION-E : 4\n",
      "['NO' 'GENERACION E - GRATUIDAD' 'GENERACION E - EXCELENCIA NACIONAL'\n",
      " 'GENERACION E - EXCELENCIA DEPARTAMENTAL']\n",
      "\n"
     ]
    }
   ],
   "source": [
    "for col in df.columns:\n",
    "    print(col, len(df[col].unique()), sep=\" : \")\n",
    "    if len(df[col].unique()) < 40:\n",
    "        print(df[col].unique())\n",
    "    print()"
   ]
  },
  {
   "cell_type": "code",
   "execution_count": 6,
   "id": "8a416b57",
   "metadata": {},
   "outputs": [],
   "source": [
    "def bar_char_basic(col, data):\n",
    "    df= data.copy()\n",
    "    return (pd.DataFrame(df[col])\n",
    "            .reset_index()\n",
    "            .groupby(col)\n",
    "            .count()\n",
    "            .sort_values(by='index', ascending=False)\n",
    "            .plot(kind=\"bar\"))"
   ]
  },
  {
   "cell_type": "code",
   "execution_count": 7,
   "id": "c224ec1c",
   "metadata": {},
   "outputs": [
    {
     "data": {
      "text/plain": [
       "<Axes: xlabel='DESEMP_MATEMATICAS'>"
      ]
     },
     "execution_count": 7,
     "metadata": {},
     "output_type": "execute_result"
    },
    {
     "data": {
      "image/png": "[encoded data removed]",
      "text/plain": [
       "<Figure size 640x480 with 1 Axes>"
      ]
     },
     "metadata": {},
     "output_type": "display_data"
    }
   ],
   "source": [
    "\n",
    "\n",
    "col = \"DESEMP_MATEMATICAS\"\n",
    "\n",
    "bar_char_basic(col=col, data=df)"
   ]
  },
  {
   "cell_type": "code",
   "execution_count": 8,
   "id": "a1193eb2",
   "metadata": {},
   "outputs": [
    {
     "data": {
      "text/plain": [
       "<Axes: xlabel='FAMI_TIENEINTERNET'>"
      ]
     },
     "execution_count": 8,
     "metadata": {},
     "output_type": "execute_result"
    },
    {
     "data": {
      "image/png": "[encoded data removed]",
      "text/plain": [
       "<Figure size 640x480 with 1 Axes>"
      ]
     },
     "metadata": {},
     "output_type": "display_data"
    }
   ],
   "source": [
    "col = \"FAMI_TIENEINTERNET\"\n",
    "\n",
    "bar_char_basic(col=col, data=df)"
   ]
  },
  {
   "cell_type": "code",
   "execution_count": 9,
   "id": "1e65b654",
   "metadata": {},
   "outputs": [
    {
     "data": {
      "text/plain": [
       "<Axes: xlabel='ESTU_HORASSEMANATRABAJA'>"
      ]
     },
     "execution_count": 9,
     "metadata": {},
     "output_type": "execute_result"
    },
    {
     "data": {
      "image/png": "[encoded data removed]",
      "text/plain": [
       "<Figure size 640x480 with 1 Axes>"
      ]
     },
     "metadata": {},
     "output_type": "display_data"
    }
   ],
   "source": [
    "col = \"ESTU_HORASSEMANATRABAJA\"\n",
    "\n",
    "bar_char_basic(col=col, data=df)"
   ]
  },
  {
   "cell_type": "code",
   "execution_count": 10,
   "id": "e0ca3976",
   "metadata": {},
   "outputs": [
    {
     "data": {
      "text/html": [
       "<div>\n",
       "<style scoped>\n",
       "    .dataframe tbody tr th:only-of-type {\n",
       "        vertical-align: middle;\n",
       "    }\n",
       "\n",
       "    .dataframe tbody tr th {\n",
       "        vertical-align: top;\n",
       "    }\n",
       "\n",
       "    .dataframe thead th {\n",
       "        text-align: right;\n",
       "    }\n",
       "</style>\n",
       "<table border=\"1\" class=\"dataframe\">\n",
       "  <thead>\n",
       "    <tr style=\"text-align: right;\">\n",
       "      <th></th>\n",
       "      <th>PUNT_GLOBAL</th>\n",
       "    </tr>\n",
       "    <tr>\n",
       "      <th>ESTU_HORASSEMANATRABAJA</th>\n",
       "      <th></th>\n",
       "    </tr>\n",
       "  </thead>\n",
       "  <tbody>\n",
       "    <tr>\n",
       "      <th>-</th>\n",
       "      <td>233.367315</td>\n",
       "    </tr>\n",
       "    <tr>\n",
       "      <th>0</th>\n",
       "      <td>254.022646</td>\n",
       "    </tr>\n",
       "    <tr>\n",
       "      <th>Entre 11 y 20 horas</th>\n",
       "      <td>232.544873</td>\n",
       "    </tr>\n",
       "    <tr>\n",
       "      <th>Entre 21 y 30 horas</th>\n",
       "      <td>228.894695</td>\n",
       "    </tr>\n",
       "    <tr>\n",
       "      <th>Menos de 10 horas</th>\n",
       "      <td>233.972251</td>\n",
       "    </tr>\n",
       "    <tr>\n",
       "      <th>Más de 30 horas</th>\n",
       "      <td>219.729593</td>\n",
       "    </tr>\n",
       "  </tbody>\n",
       "</table>\n",
       "</div>"
      ],
      "text/plain": [
       "                         PUNT_GLOBAL\n",
       "ESTU_HORASSEMANATRABAJA             \n",
       "-                         233.367315\n",
       "0                         254.022646\n",
       "Entre 11 y 20 horas       232.544873\n",
       "Entre 21 y 30 horas       228.894695\n",
       "Menos de 10 horas         233.972251\n",
       "Más de 30 horas           219.729593"
      ]
     },
     "execution_count": 10,
     "metadata": {},
     "output_type": "execute_result"
    }
   ],
   "source": [
    "col = \"ESTU_HORASSEMANATRABAJA\"\n",
    "\n",
    "pd.DataFrame(df[[col,  \"PUNT_GLOBAL\"]]).groupby(col).mean()\n",
    "       \n",
    "          \n",
    "            \n"
   ]
  },
  {
   "cell_type": "code",
   "execution_count": 11,
   "id": "6005def3",
   "metadata": {},
   "outputs": [
    {
     "data": {
      "text/html": [
       "<div>\n",
       "<style scoped>\n",
       "    .dataframe tbody tr th:only-of-type {\n",
       "        vertical-align: middle;\n",
       "    }\n",
       "\n",
       "    .dataframe tbody tr th {\n",
       "        vertical-align: top;\n",
       "    }\n",
       "\n",
       "    .dataframe thead th {\n",
       "        text-align: right;\n",
       "    }\n",
       "</style>\n",
       "<table border=\"1\" class=\"dataframe\">\n",
       "  <thead>\n",
       "    <tr style=\"text-align: right;\">\n",
       "      <th></th>\n",
       "      <th>PUNT_GLOBAL</th>\n",
       "    </tr>\n",
       "  </thead>\n",
       "  <tbody>\n",
       "    <tr>\n",
       "      <th>count</th>\n",
       "      <td>546212.000000</td>\n",
       "    </tr>\n",
       "    <tr>\n",
       "      <th>mean</th>\n",
       "      <td>246.186464</td>\n",
       "    </tr>\n",
       "    <tr>\n",
       "      <th>std</th>\n",
       "      <td>51.386858</td>\n",
       "    </tr>\n",
       "    <tr>\n",
       "      <th>min</th>\n",
       "      <td>0.000000</td>\n",
       "    </tr>\n",
       "    <tr>\n",
       "      <th>25%</th>\n",
       "      <td>207.000000</td>\n",
       "    </tr>\n",
       "    <tr>\n",
       "      <th>50%</th>\n",
       "      <td>243.000000</td>\n",
       "    </tr>\n",
       "    <tr>\n",
       "      <th>75%</th>\n",
       "      <td>282.000000</td>\n",
       "    </tr>\n",
       "    <tr>\n",
       "      <th>max</th>\n",
       "      <td>477.000000</td>\n",
       "    </tr>\n",
       "  </tbody>\n",
       "</table>\n",
       "</div>"
      ],
      "text/plain": [
       "         PUNT_GLOBAL\n",
       "count  546212.000000\n",
       "mean      246.186464\n",
       "std        51.386858\n",
       "min         0.000000\n",
       "25%       207.000000\n",
       "50%       243.000000\n",
       "75%       282.000000\n",
       "max       477.000000"
      ]
     },
     "execution_count": 11,
     "metadata": {},
     "output_type": "execute_result"
    }
   ],
   "source": [
    "pd.DataFrame(df[[col,  \"PUNT_GLOBAL\"]]).describe()"
   ]
  },
  {
   "cell_type": "code",
   "execution_count": 12,
   "id": "fca22872",
   "metadata": {},
   "outputs": [
    {
     "data": {
      "text/plain": [
       "PUNT_GLOBAL    0.495617\n",
       "dtype: float64"
      ]
     },
     "execution_count": 12,
     "metadata": {},
     "output_type": "execute_result"
    }
   ],
   "source": [
    "1-pd.DataFrame(pd.DataFrame(df[[col,  \"PUNT_GLOBAL\"]])['PUNT_GLOBAL']>=243).sum()/len(df)"
   ]
  },
  {
   "cell_type": "code",
   "execution_count": 13,
   "id": "0995b17d",
   "metadata": {},
   "outputs": [
    {
     "data": {
      "text/html": [
       "<div>\n",
       "<style scoped>\n",
       "    .dataframe tbody tr th:only-of-type {\n",
       "        vertical-align: middle;\n",
       "    }\n",
       "\n",
       "    .dataframe tbody tr th {\n",
       "        vertical-align: top;\n",
       "    }\n",
       "\n",
       "    .dataframe thead th {\n",
       "        text-align: right;\n",
       "    }\n",
       "</style>\n",
       "<table border=\"1\" class=\"dataframe\">\n",
       "  <thead>\n",
       "    <tr style=\"text-align: right;\">\n",
       "      <th></th>\n",
       "      <th>PUNT_GLOBAL</th>\n",
       "    </tr>\n",
       "    <tr>\n",
       "      <th>ESTU_HORASSEMANATRABAJA</th>\n",
       "      <th></th>\n",
       "    </tr>\n",
       "  </thead>\n",
       "  <tbody>\n",
       "    <tr>\n",
       "      <th>-</th>\n",
       "      <td>53.310003</td>\n",
       "    </tr>\n",
       "    <tr>\n",
       "      <th>0</th>\n",
       "      <td>51.342835</td>\n",
       "    </tr>\n",
       "    <tr>\n",
       "      <th>Entre 11 y 20 horas</th>\n",
       "      <td>46.975800</td>\n",
       "    </tr>\n",
       "    <tr>\n",
       "      <th>Entre 21 y 30 horas</th>\n",
       "      <td>45.897294</td>\n",
       "    </tr>\n",
       "    <tr>\n",
       "      <th>Menos de 10 horas</th>\n",
       "      <td>48.834058</td>\n",
       "    </tr>\n",
       "    <tr>\n",
       "      <th>Más de 30 horas</th>\n",
       "      <td>42.809241</td>\n",
       "    </tr>\n",
       "  </tbody>\n",
       "</table>\n",
       "</div>"
      ],
      "text/plain": [
       "                         PUNT_GLOBAL\n",
       "ESTU_HORASSEMANATRABAJA             \n",
       "-                          53.310003\n",
       "0                          51.342835\n",
       "Entre 11 y 20 horas        46.975800\n",
       "Entre 21 y 30 horas        45.897294\n",
       "Menos de 10 horas          48.834058\n",
       "Más de 30 horas            42.809241"
      ]
     },
     "execution_count": 13,
     "metadata": {},
     "output_type": "execute_result"
    }
   ],
   "source": [
    "col = \"ESTU_HORASSEMANATRABAJA\"\n",
    "\n",
    "pd.DataFrame(df[[col,  \"PUNT_GLOBAL\"]]).groupby(col).std()\n",
    "          "
   ]
  },
  {
   "cell_type": "code",
   "execution_count": 14,
   "id": "8bb28dec",
   "metadata": {},
   "outputs": [],
   "source": [
    "import seaborn as sns\n",
    "import plotly.express as px"
   ]
  },
  {
   "cell_type": "code",
   "execution_count": null,
   "id": "a0819c0b",
   "metadata": {},
   "outputs": [],
   "source": []
  },
  {
   "cell_type": "code",
   "execution_count": 15,
   "id": "74a49e83",
   "metadata": {},
   "outputs": [],
   "source": [
    "import matplotlib.pyplot as plt"
   ]
  },
  {
   "cell_type": "code",
   "execution_count": 16,
   "id": "e8b09a9a",
   "metadata": {},
   "outputs": [
    {
     "ename": "ValueError",
     "evalue": "could not convert string to float: 'TI'",
     "output_type": "error",
     "traceback": [
      "\u001b[1;31m---------------------------------------------------------------------------\u001b[0m",
      "\u001b[1;31mValueError\u001b[0m                                Traceback (most recent call last)",
      "Cell \u001b[1;32mIn[16], line 2\u001b[0m\n\u001b[0;32m      1\u001b[0m plt\u001b[38;5;241m.\u001b[39mfigure(figsize\u001b[38;5;241m=\u001b[39m(\u001b[38;5;241m20\u001b[39m,\u001b[38;5;241m20\u001b[39m))\n\u001b[1;32m----> 2\u001b[0m sns\u001b[38;5;241m.\u001b[39mheatmap(df\u001b[38;5;241m.\u001b[39mcorr(), vmin\u001b[38;5;241m=\u001b[39m\u001b[38;5;241m-\u001b[39m\u001b[38;5;241m1\u001b[39m, vmax\u001b[38;5;241m=\u001b[39m\u001b[38;5;241m1\u001b[39m, cmap\u001b[38;5;241m=\u001b[39m\u001b[38;5;124m'\u001b[39m\u001b[38;5;124mRdBu\u001b[39m\u001b[38;5;124m'\u001b[39m, annot\u001b[38;5;241m=\u001b[39m\u001b[38;5;28;01mTrue\u001b[39;00m)\n",
      "File \u001b[1;32mC:\\ProgramData\\Anaconda3\\Lib\\site-packages\\pandas\\core\\frame.py:10054\u001b[0m, in \u001b[0;36mDataFrame.corr\u001b[1;34m(self, method, min_periods, numeric_only)\u001b[0m\n\u001b[0;32m  10052\u001b[0m cols \u001b[38;5;241m=\u001b[39m data\u001b[38;5;241m.\u001b[39mcolumns\n\u001b[0;32m  10053\u001b[0m idx \u001b[38;5;241m=\u001b[39m cols\u001b[38;5;241m.\u001b[39mcopy()\n\u001b[1;32m> 10054\u001b[0m mat \u001b[38;5;241m=\u001b[39m data\u001b[38;5;241m.\u001b[39mto_numpy(dtype\u001b[38;5;241m=\u001b[39m\u001b[38;5;28mfloat\u001b[39m, na_value\u001b[38;5;241m=\u001b[39mnp\u001b[38;5;241m.\u001b[39mnan, copy\u001b[38;5;241m=\u001b[39m\u001b[38;5;28;01mFalse\u001b[39;00m)\n\u001b[0;32m  10056\u001b[0m \u001b[38;5;28;01mif\u001b[39;00m method \u001b[38;5;241m==\u001b[39m \u001b[38;5;124m\"\u001b[39m\u001b[38;5;124mpearson\u001b[39m\u001b[38;5;124m\"\u001b[39m:\n\u001b[0;32m  10057\u001b[0m     correl \u001b[38;5;241m=\u001b[39m libalgos\u001b[38;5;241m.\u001b[39mnancorr(mat, minp\u001b[38;5;241m=\u001b[39mmin_periods)\n",
      "File \u001b[1;32mC:\\ProgramData\\Anaconda3\\Lib\\site-packages\\pandas\\core\\frame.py:1838\u001b[0m, in \u001b[0;36mDataFrame.to_numpy\u001b[1;34m(self, dtype, copy, na_value)\u001b[0m\n\u001b[0;32m   1836\u001b[0m \u001b[38;5;28;01mif\u001b[39;00m dtype \u001b[38;5;129;01mis\u001b[39;00m \u001b[38;5;129;01mnot\u001b[39;00m \u001b[38;5;28;01mNone\u001b[39;00m:\n\u001b[0;32m   1837\u001b[0m     dtype \u001b[38;5;241m=\u001b[39m np\u001b[38;5;241m.\u001b[39mdtype(dtype)\n\u001b[1;32m-> 1838\u001b[0m result \u001b[38;5;241m=\u001b[39m \u001b[38;5;28mself\u001b[39m\u001b[38;5;241m.\u001b[39m_mgr\u001b[38;5;241m.\u001b[39mas_array(dtype\u001b[38;5;241m=\u001b[39mdtype, copy\u001b[38;5;241m=\u001b[39mcopy, na_value\u001b[38;5;241m=\u001b[39mna_value)\n\u001b[0;32m   1839\u001b[0m \u001b[38;5;28;01mif\u001b[39;00m result\u001b[38;5;241m.\u001b[39mdtype \u001b[38;5;129;01mis\u001b[39;00m \u001b[38;5;129;01mnot\u001b[39;00m dtype:\n\u001b[0;32m   1840\u001b[0m     result \u001b[38;5;241m=\u001b[39m np\u001b[38;5;241m.\u001b[39marray(result, dtype\u001b[38;5;241m=\u001b[39mdtype, copy\u001b[38;5;241m=\u001b[39m\u001b[38;5;28;01mFalse\u001b[39;00m)\n",
      "File \u001b[1;32mC:\\ProgramData\\Anaconda3\\Lib\\site-packages\\pandas\\core\\internals\\managers.py:1732\u001b[0m, in \u001b[0;36mBlockManager.as_array\u001b[1;34m(self, dtype, copy, na_value)\u001b[0m\n\u001b[0;32m   1730\u001b[0m         arr\u001b[38;5;241m.\u001b[39mflags\u001b[38;5;241m.\u001b[39mwriteable \u001b[38;5;241m=\u001b[39m \u001b[38;5;28;01mFalse\u001b[39;00m\n\u001b[0;32m   1731\u001b[0m \u001b[38;5;28;01melse\u001b[39;00m:\n\u001b[1;32m-> 1732\u001b[0m     arr \u001b[38;5;241m=\u001b[39m \u001b[38;5;28mself\u001b[39m\u001b[38;5;241m.\u001b[39m_interleave(dtype\u001b[38;5;241m=\u001b[39mdtype, na_value\u001b[38;5;241m=\u001b[39mna_value)\n\u001b[0;32m   1733\u001b[0m     \u001b[38;5;66;03m# The underlying data was copied within _interleave, so no need\u001b[39;00m\n\u001b[0;32m   1734\u001b[0m     \u001b[38;5;66;03m# to further copy if copy=True or setting na_value\u001b[39;00m\n\u001b[0;32m   1736\u001b[0m \u001b[38;5;28;01mif\u001b[39;00m na_value \u001b[38;5;129;01mis\u001b[39;00m \u001b[38;5;129;01mnot\u001b[39;00m lib\u001b[38;5;241m.\u001b[39mno_default:\n",
      "File \u001b[1;32mC:\\ProgramData\\Anaconda3\\Lib\\site-packages\\pandas\\core\\internals\\managers.py:1794\u001b[0m, in \u001b[0;36mBlockManager._interleave\u001b[1;34m(self, dtype, na_value)\u001b[0m\n\u001b[0;32m   1792\u001b[0m     \u001b[38;5;28;01melse\u001b[39;00m:\n\u001b[0;32m   1793\u001b[0m         arr \u001b[38;5;241m=\u001b[39m blk\u001b[38;5;241m.\u001b[39mget_values(dtype)\n\u001b[1;32m-> 1794\u001b[0m     result[rl\u001b[38;5;241m.\u001b[39mindexer] \u001b[38;5;241m=\u001b[39m arr\n\u001b[0;32m   1795\u001b[0m     itemmask[rl\u001b[38;5;241m.\u001b[39mindexer] \u001b[38;5;241m=\u001b[39m \u001b[38;5;241m1\u001b[39m\n\u001b[0;32m   1797\u001b[0m \u001b[38;5;28;01mif\u001b[39;00m \u001b[38;5;129;01mnot\u001b[39;00m itemmask\u001b[38;5;241m.\u001b[39mall():\n",
      "\u001b[1;31mValueError\u001b[0m: could not convert string to float: 'TI'"
     ]
    },
    {
     "data": {
      "text/plain": [
       "<Figure size 2000x2000 with 0 Axes>"
      ]
     },
     "metadata": {},
     "output_type": "display_data"
    }
   ],
   "source": [
    "plt.figure(figsize=(20,20))\n",
    "sns.heatmap(df.corr(), vmin=-1, vmax=1, cmap='RdBu', annot=True)"
   ]
  },
  {
   "cell_type": "code",
   "execution_count": 17,
   "id": "1397be8b",
   "metadata": {},
   "outputs": [
    {
     "data": {
      "text/plain": [
       "Index(['ESTU_TIPODOCUMENTO', 'ESTU_NACIONALIDAD', 'ESTU_GENERO',\n",
       "       'ESTU_FECHANACIMIENTO', 'PERIODO', 'ESTU_CONSECUTIVO',\n",
       "       'ESTU_ESTUDIANTE', 'ESTU_TIENEETNIA', 'ESTU_PAIS_RESIDE', 'ESTU_ETNIA',\n",
       "       'ESTU_DEPTO_RESIDE', 'ESTU_COD_RESIDE_DEPTO', 'ESTU_MCPIO_RESIDE',\n",
       "       'ESTU_COD_RESIDE_MCPIO', 'FAMI_ESTRATOVIVIENDA', 'FAMI_PERSONASHOGAR',\n",
       "       'FAMI_CUARTOSHOGAR', 'FAMI_EDUCACIONPADRE', 'FAMI_EDUCACIONMADRE',\n",
       "       'FAMI_TRABAJOLABORPADRE', 'FAMI_TRABAJOLABORMADRE',\n",
       "       'FAMI_TIENEINTERNET', 'FAMI_TIENESERVICIOTV', 'FAMI_TIENECOMPUTADOR',\n",
       "       'FAMI_TIENELAVADORA', 'FAMI_TIENEHORNOMICROOGAS', 'FAMI_TIENEAUTOMOVIL',\n",
       "       'FAMI_TIENEMOTOCICLETA', 'FAMI_TIENECONSOLAVIDEOJUEGOS',\n",
       "       'FAMI_NUMLIBROS', 'FAMI_COMELECHEDERIVADOS',\n",
       "       'FAMI_COMECARNEPESCADOHUEVO', 'FAMI_COMECEREALFRUTOSLEGUMBRE',\n",
       "       'FAMI_SITUACIONECONOMICA', 'ESTU_DEDICACIONLECTURADIARIA',\n",
       "       'ESTU_DEDICACIONINTERNET', 'ESTU_HORASSEMANATRABAJA',\n",
       "       'ESTU_TIPOREMUNERACION', 'COLE_CODIGO_ICFES',\n",
       "       'COLE_COD_DANE_ESTABLECIMIENTO', 'COLE_NOMBRE_ESTABLECIMIENTO',\n",
       "       'COLE_GENERO', 'COLE_NATURALEZA', 'COLE_CALENDARIO', 'COLE_BILINGUE',\n",
       "       'COLE_CARACTER', 'COLE_COD_DANE_SEDE', 'COLE_NOMBRE_SEDE',\n",
       "       'COLE_SEDE_PRINCIPAL', 'COLE_AREA_UBICACION', 'COLE_JORNADA',\n",
       "       'COLE_COD_MCPIO_UBICACION', 'COLE_MCPIO_UBICACION',\n",
       "       'COLE_COD_DEPTO_UBICACION', 'COLE_DEPTO_UBICACION',\n",
       "       'ESTU_PRIVADO_LIBERTAD', 'ESTU_COD_MCPIO_PRESENTACION',\n",
       "       'ESTU_MCPIO_PRESENTACION', 'ESTU_DEPTO_PRESENTACION',\n",
       "       'ESTU_COD_DEPTO_PRESENTACION', 'PUNT_LECTURA_CRITICA',\n",
       "       'PERCENTIL_LECTURA_CRITICA', 'DESEMP_LECTURA_CRITICA',\n",
       "       'PUNT_MATEMATICAS', 'PERCENTIL_MATEMATICAS', 'DESEMP_MATEMATICAS',\n",
       "       'PUNT_C_NATURALES', 'PERCENTIL_C_NATURALES', 'DESEMP_C_NATURALES',\n",
       "       'PUNT_SOCIALES_CIUDADANAS', 'PERCENTIL_SOCIALES_CIUDADANAS',\n",
       "       'DESEMP_SOCIALES_CIUDADANAS', 'PUNT_INGLES', 'PERCENTIL_INGLES',\n",
       "       'DESEMP_INGLES', 'PUNT_GLOBAL', 'PERCENTIL_GLOBAL',\n",
       "       'ESTU_INSE_INDIVIDUAL', 'ESTU_NSE_INDIVIDUAL',\n",
       "       'ESTU_NSE_ESTABLECIMIENTO', 'ESTU_ESTADOINVESTIGACION',\n",
       "       'ESTU_GENERACION-E'],\n",
       "      dtype='object')"
      ]
     },
     "execution_count": 17,
     "metadata": {},
     "output_type": "execute_result"
    }
   ],
   "source": [
    "df.columns"
   ]
  },
  {
   "cell_type": "code",
   "execution_count": 21,
   "id": "95d5663f",
   "metadata": {},
   "outputs": [
    {
     "name": "stdout",
     "output_type": "stream",
     "text": [
      "^C\n"
     ]
    }
   ],
   "source": []
  },
  {
   "cell_type": "code",
   "execution_count": 20,
   "id": "03296770",
   "metadata": {
    "scrolled": true
   },
   "outputs": [
    {
     "ename": "ModuleNotFoundError",
     "evalue": "No module named 'ppscore'",
     "output_type": "error",
     "traceback": [
      "\u001b[1;31m---------------------------------------------------------------------------\u001b[0m",
      "\u001b[1;31mModuleNotFoundError\u001b[0m                       Traceback (most recent call last)",
      "Cell \u001b[1;32mIn[20], line 1\u001b[0m\n\u001b[1;32m----> 1\u001b[0m \u001b[38;5;28;01mimport\u001b[39;00m \u001b[38;5;21;01mppscore\u001b[39;00m \u001b[38;5;28;01mas\u001b[39;00m \u001b[38;5;21;01mpps\u001b[39;00m\n\u001b[0;32m      3\u001b[0m matrix_df \u001b[38;5;241m=\u001b[39m pps\u001b[38;5;241m.\u001b[39mmatrix(\n\u001b[0;32m      4\u001b[0m     df[\n\u001b[0;32m      5\u001b[0m         [\n\u001b[1;32m   (...)\u001b[0m\n\u001b[0;32m     19\u001b[0m     ]\n\u001b[0;32m     20\u001b[0m )[[\u001b[38;5;124m\"\u001b[39m\u001b[38;5;124mx\u001b[39m\u001b[38;5;124m\"\u001b[39m, \u001b[38;5;124m\"\u001b[39m\u001b[38;5;124my\u001b[39m\u001b[38;5;124m\"\u001b[39m, \u001b[38;5;124m\"\u001b[39m\u001b[38;5;124mppscore\u001b[39m\u001b[38;5;124m\"\u001b[39m]]\u001b[38;5;241m.\u001b[39mpivot(columns\u001b[38;5;241m=\u001b[39m\u001b[38;5;124m\"\u001b[39m\u001b[38;5;124mx\u001b[39m\u001b[38;5;124m\"\u001b[39m, index\u001b[38;5;241m=\u001b[39m\u001b[38;5;124m\"\u001b[39m\u001b[38;5;124my\u001b[39m\u001b[38;5;124m\"\u001b[39m, values\u001b[38;5;241m=\u001b[39m\u001b[38;5;124m\"\u001b[39m\u001b[38;5;124mppscore\u001b[39m\u001b[38;5;124m\"\u001b[39m)\n",
      "\u001b[1;31mModuleNotFoundError\u001b[0m: No module named 'ppscore'"
     ]
    }
   ],
   "source": [
    "import ppscore as pps\n",
    "\n",
    "matrix_df = pps.matrix(\n",
    "    df[\n",
    "        [\n",
    "            \"ESTU_ETNIA\",\n",
    "            \"FAMI_ESTRATOVIVIENDA\",\n",
    "            \"FAMI_CUARTOSHOGAR\",\n",
    "            \"FAMI_EDUCACIONPADRE\",\n",
    "            \"FAMI_EDUCACIONMADRE\",\n",
    "            \"FAMI_TRABAJOLABORPADRE\",\n",
    "            \"FAMI_TRABAJOLABORMADRE\",\n",
    "            \"FAMI_TIENEINTERNET\",\n",
    "            \"FAMI_TIENECONSOLAVIDEOJUEGOS\",\n",
    "            \"FAMI_NUMLIBROS\",\n",
    "            \"FAMI_SITUACIONECONOMICA\",\n",
    "            \"PUNT_GLOBAL\",\n",
    "        ]\n",
    "    ]\n",
    ")[[\"x\", \"y\", \"ppscore\"]].pivot(columns=\"x\", index=\"y\", values=\"ppscore\")"
   ]
  },
  {
   "cell_type": "code",
   "execution_count": 19,
   "id": "15e8ff5e",
   "metadata": {},
   "outputs": [
    {
     "ename": "NameError",
     "evalue": "name 'matrix_df' is not defined",
     "output_type": "error",
     "traceback": [
      "\u001b[1;31m---------------------------------------------------------------------------\u001b[0m",
      "\u001b[1;31mNameError\u001b[0m                                 Traceback (most recent call last)",
      "Cell \u001b[1;32mIn[19], line 2\u001b[0m\n\u001b[0;32m      1\u001b[0m plt\u001b[38;5;241m.\u001b[39mfigure(figsize\u001b[38;5;241m=\u001b[39m(\u001b[38;5;241m20\u001b[39m,\u001b[38;5;241m20\u001b[39m))\n\u001b[1;32m----> 2\u001b[0m sns\u001b[38;5;241m.\u001b[39mheatmap(matrix_df, vmin\u001b[38;5;241m=\u001b[39m\u001b[38;5;241m0\u001b[39m, vmax\u001b[38;5;241m=\u001b[39m\u001b[38;5;241m1\u001b[39m, cmap\u001b[38;5;241m=\u001b[39m\u001b[38;5;124m'\u001b[39m\u001b[38;5;124mBlues\u001b[39m\u001b[38;5;124m'\u001b[39m, annot\u001b[38;5;241m=\u001b[39m\u001b[38;5;28;01mTrue\u001b[39;00m)\n",
      "\u001b[1;31mNameError\u001b[0m: name 'matrix_df' is not defined"
     ]
    },
    {
     "data": {
      "text/plain": [
       "<Figure size 2000x2000 with 0 Axes>"
      ]
     },
     "metadata": {},
     "output_type": "display_data"
    }
   ],
   "source": [
    "plt.figure(figsize=(20,20))\n",
    "sns.heatmap(matrix_df, vmin=0, vmax=1, cmap='Blues', annot=True)"
   ]
  },
  {
   "cell_type": "code",
   "execution_count": 59,
   "id": "e8de8b30",
   "metadata": {},
   "outputs": [
    {
     "data": {
      "text/html": [
       "<div><div id=cd777f1f-cbe6-4465-ae19-80c47713d254 style=\"display:none; background-color:#9D6CFF; color:white; width:200px; height:30px; padding-left:5px; border-radius:4px; flex-direction:row; justify-content:space-around; align-items:center;\" onmouseover=\"this.style.backgroundColor='#BA9BF8'\" onmouseout=\"this.style.backgroundColor='#9D6CFF'\" onclick=\"window.commands?.execute('create-mitosheet-from-dataframe-output');\">See Full Dataframe in Mito</div> <script> if (window.commands.hasCommand('create-mitosheet-from-dataframe-output')) document.getElementById('cd777f1f-cbe6-4465-ae19-80c47713d254').style.display = 'flex' </script> <table border=\"1\" class=\"dataframe\">\n",
       "  <thead>\n",
       "    <tr style=\"text-align: right;\">\n",
       "      <th></th>\n",
       "      <th>ESTU_TIPODOCUMENTO</th>\n",
       "      <th>ESTU_GENERO</th>\n",
       "      <th>ESTU_FECHANACIMIENTO</th>\n",
       "      <th>PERIODO</th>\n",
       "      <th>ESTU_CONSECUTIVO</th>\n",
       "      <th>ESTU_ESTUDIANTE</th>\n",
       "      <th>ESTU_TIENEETNIA</th>\n",
       "      <th>ESTU_PAIS_RESIDE</th>\n",
       "      <th>ESTU_ETNIA</th>\n",
       "      <th>ESTU_DEPTO_RESIDE</th>\n",
       "      <th>...</th>\n",
       "      <th>PUNT_INGLES</th>\n",
       "      <th>PERCENTIL_INGLES</th>\n",
       "      <th>DESEMP_INGLES</th>\n",
       "      <th>PUNT_GLOBAL</th>\n",
       "      <th>PERCENTIL_GLOBAL</th>\n",
       "      <th>ESTU_INSE_INDIVIDUAL</th>\n",
       "      <th>ESTU_NSE_INDIVIDUAL</th>\n",
       "      <th>ESTU_NSE_ESTABLECIMIENTO</th>\n",
       "      <th>ESTU_ESTADOINVESTIGACION</th>\n",
       "      <th>ESTU_GENERACION-E</th>\n",
       "    </tr>\n",
       "  </thead>\n",
       "  <tbody>\n",
       "    <tr>\n",
       "      <th>0</th>\n",
       "      <td>TI</td>\n",
       "      <td>M</td>\n",
       "      <td>02/18/2002 12:00:00 AM</td>\n",
       "      <td>20194</td>\n",
       "      <td>SB11201940031558</td>\n",
       "      <td>ESTUDIANTE</td>\n",
       "      <td>No</td>\n",
       "      <td>COLOMBIA</td>\n",
       "      <td>-</td>\n",
       "      <td>MAGDALENA</td>\n",
       "      <td>...</td>\n",
       "      <td>54.0</td>\n",
       "      <td>67</td>\n",
       "      <td>A1</td>\n",
       "      <td>208</td>\n",
       "      <td>25</td>\n",
       "      <td>50.9421557404314</td>\n",
       "      <td>2.0</td>\n",
       "      <td>2.0</td>\n",
       "      <td>PUBLICAR</td>\n",
       "      <td>NO</td>\n",
       "    </tr>\n",
       "    <tr>\n",
       "      <th>1</th>\n",
       "      <td>TI</td>\n",
       "      <td>M</td>\n",
       "      <td>06/28/2003 12:00:00 AM</td>\n",
       "      <td>20194</td>\n",
       "      <td>SB11201940303339</td>\n",
       "      <td>ESTUDIANTE</td>\n",
       "      <td>No</td>\n",
       "      <td>COLOMBIA</td>\n",
       "      <td>-</td>\n",
       "      <td>BOGOTÁ</td>\n",
       "      <td>...</td>\n",
       "      <td>63.0</td>\n",
       "      <td>88</td>\n",
       "      <td>A2</td>\n",
       "      <td>299</td>\n",
       "      <td>83</td>\n",
       "      <td>59.767864431576</td>\n",
       "      <td>3.0</td>\n",
       "      <td>4.0</td>\n",
       "      <td>PUBLICAR</td>\n",
       "      <td>NO</td>\n",
       "    </tr>\n",
       "    <tr>\n",
       "      <th>2</th>\n",
       "      <td>TI</td>\n",
       "      <td>M</td>\n",
       "      <td>06/02/2001 12:00:00 AM</td>\n",
       "      <td>20194</td>\n",
       "      <td>SB11201940255017</td>\n",
       "      <td>ESTUDIANTE</td>\n",
       "      <td>No</td>\n",
       "      <td>COLOMBIA</td>\n",
       "      <td>-</td>\n",
       "      <td>BOLIVAR</td>\n",
       "      <td>...</td>\n",
       "      <td>64.0</td>\n",
       "      <td>89</td>\n",
       "      <td>A2</td>\n",
       "      <td>299</td>\n",
       "      <td>84</td>\n",
       "      <td>50.7642383644749</td>\n",
       "      <td>2.0</td>\n",
       "      <td>3.0</td>\n",
       "      <td>PUBLICAR</td>\n",
       "      <td>GENERACION E - GRATUIDAD</td>\n",
       "    </tr>\n",
       "    <tr>\n",
       "      <th>3</th>\n",
       "      <td>TI</td>\n",
       "      <td>M</td>\n",
       "      <td>04/26/2002 12:00:00 AM</td>\n",
       "      <td>20194</td>\n",
       "      <td>SB11201940154799</td>\n",
       "      <td>ESTUDIANTE</td>\n",
       "      <td>Si</td>\n",
       "      <td>COLOMBIA</td>\n",
       "      <td>Ninguno</td>\n",
       "      <td>BOGOTÁ</td>\n",
       "      <td>...</td>\n",
       "      <td>53.0</td>\n",
       "      <td>67</td>\n",
       "      <td>A1</td>\n",
       "      <td>309</td>\n",
       "      <td>88</td>\n",
       "      <td>45.7791353123516</td>\n",
       "      <td>2.0</td>\n",
       "      <td>3.0</td>\n",
       "      <td>PUBLICAR</td>\n",
       "      <td>GENERACION E - GRATUIDAD</td>\n",
       "    </tr>\n",
       "    <tr>\n",
       "      <th>4</th>\n",
       "      <td>TI</td>\n",
       "      <td>M</td>\n",
       "      <td>02/05/2002 12:00:00 AM</td>\n",
       "      <td>20194</td>\n",
       "      <td>SB11201940280831</td>\n",
       "      <td>ESTUDIANTE</td>\n",
       "      <td>No</td>\n",
       "      <td>COLOMBIA</td>\n",
       "      <td>-</td>\n",
       "      <td>BOGOTÁ</td>\n",
       "      <td>...</td>\n",
       "      <td>52.0</td>\n",
       "      <td>63</td>\n",
       "      <td>A1</td>\n",
       "      <td>288</td>\n",
       "      <td>78</td>\n",
       "      <td>52.9109464277177</td>\n",
       "      <td>3.0</td>\n",
       "      <td>3.0</td>\n",
       "      <td>PUBLICAR</td>\n",
       "      <td>NO</td>\n",
       "    </tr>\n",
       "    <tr>\n",
       "      <th>...</th>\n",
       "      <td>...</td>\n",
       "      <td>...</td>\n",
       "      <td>...</td>\n",
       "      <td>...</td>\n",
       "      <td>...</td>\n",
       "      <td>...</td>\n",
       "      <td>...</td>\n",
       "      <td>...</td>\n",
       "      <td>...</td>\n",
       "      <td>...</td>\n",
       "      <td>...</td>\n",
       "      <td>...</td>\n",
       "      <td>...</td>\n",
       "      <td>...</td>\n",
       "      <td>...</td>\n",
       "      <td>...</td>\n",
       "      <td>...</td>\n",
       "      <td>...</td>\n",
       "      <td>...</td>\n",
       "      <td>...</td>\n",
       "      <td>...</td>\n",
       "    </tr>\n",
       "    <tr>\n",
       "      <th>546207</th>\n",
       "      <td>CC</td>\n",
       "      <td>M</td>\n",
       "      <td>02/25/1999 12:00:00 AM</td>\n",
       "      <td>20194</td>\n",
       "      <td>SB11201940195862</td>\n",
       "      <td>ESTUDIANTE</td>\n",
       "      <td>No</td>\n",
       "      <td>COLOMBIA</td>\n",
       "      <td>-</td>\n",
       "      <td>ANTIOQUIA</td>\n",
       "      <td>...</td>\n",
       "      <td>58.0</td>\n",
       "      <td>79</td>\n",
       "      <td>A2</td>\n",
       "      <td>360</td>\n",
       "      <td>99</td>\n",
       "      <td>47.5807720132296</td>\n",
       "      <td>2.0</td>\n",
       "      <td>2.0</td>\n",
       "      <td>PUBLICAR</td>\n",
       "      <td>GENERACION E - EXCELENCIA NACIONAL</td>\n",
       "    </tr>\n",
       "    <tr>\n",
       "      <th>546208</th>\n",
       "      <td>TI</td>\n",
       "      <td>M</td>\n",
       "      <td>10/14/2002 12:00:00 AM</td>\n",
       "      <td>20194</td>\n",
       "      <td>SB11201940253002</td>\n",
       "      <td>ESTUDIANTE</td>\n",
       "      <td>No</td>\n",
       "      <td>COLOMBIA</td>\n",
       "      <td>-</td>\n",
       "      <td>BOGOTÁ</td>\n",
       "      <td>...</td>\n",
       "      <td>74.0</td>\n",
       "      <td>97</td>\n",
       "      <td>B1</td>\n",
       "      <td>360</td>\n",
       "      <td>99</td>\n",
       "      <td>57.406418472062</td>\n",
       "      <td>3.0</td>\n",
       "      <td>4.0</td>\n",
       "      <td>PUBLICAR</td>\n",
       "      <td>GENERACION E - EXCELENCIA NACIONAL</td>\n",
       "    </tr>\n",
       "    <tr>\n",
       "      <th>546209</th>\n",
       "      <td>TI</td>\n",
       "      <td>M</td>\n",
       "      <td>11/22/2002 12:00:00 AM</td>\n",
       "      <td>20194</td>\n",
       "      <td>SB11201940364767</td>\n",
       "      <td>ESTUDIANTE</td>\n",
       "      <td>No</td>\n",
       "      <td>COLOMBIA</td>\n",
       "      <td>-</td>\n",
       "      <td>ARAUCA</td>\n",
       "      <td>...</td>\n",
       "      <td>72.0</td>\n",
       "      <td>96</td>\n",
       "      <td>B1</td>\n",
       "      <td>377</td>\n",
       "      <td>100</td>\n",
       "      <td>71.2254308010465</td>\n",
       "      <td>4.0</td>\n",
       "      <td>3.0</td>\n",
       "      <td>PUBLICAR</td>\n",
       "      <td>GENERACION E - EXCELENCIA DEPARTAMENTAL</td>\n",
       "    </tr>\n",
       "    <tr>\n",
       "      <th>546210</th>\n",
       "      <td>TI</td>\n",
       "      <td>M</td>\n",
       "      <td>11/10/2002 12:00:00 AM</td>\n",
       "      <td>20194</td>\n",
       "      <td>SB11201940210026</td>\n",
       "      <td>ESTUDIANTE</td>\n",
       "      <td>No</td>\n",
       "      <td>COLOMBIA</td>\n",
       "      <td>-</td>\n",
       "      <td>SANTANDER</td>\n",
       "      <td>...</td>\n",
       "      <td>46.0</td>\n",
       "      <td>45</td>\n",
       "      <td>A-</td>\n",
       "      <td>278</td>\n",
       "      <td>73</td>\n",
       "      <td>38.1334451267846</td>\n",
       "      <td>1.0</td>\n",
       "      <td>2.0</td>\n",
       "      <td>PUBLICAR</td>\n",
       "      <td>GENERACION E - GRATUIDAD</td>\n",
       "    </tr>\n",
       "    <tr>\n",
       "      <th>546211</th>\n",
       "      <td>TI</td>\n",
       "      <td>M</td>\n",
       "      <td>06/02/2002 12:00:00 AM</td>\n",
       "      <td>20194</td>\n",
       "      <td>SB11201940074679</td>\n",
       "      <td>ESTUDIANTE</td>\n",
       "      <td>No</td>\n",
       "      <td>COLOMBIA</td>\n",
       "      <td>-</td>\n",
       "      <td>BOGOTÁ</td>\n",
       "      <td>...</td>\n",
       "      <td>74.0</td>\n",
       "      <td>97</td>\n",
       "      <td>B1</td>\n",
       "      <td>365</td>\n",
       "      <td>99</td>\n",
       "      <td>49.7833058735661</td>\n",
       "      <td>2.0</td>\n",
       "      <td>3.0</td>\n",
       "      <td>PUBLICAR</td>\n",
       "      <td>GENERACION E - EXCELENCIA NACIONAL</td>\n",
       "    </tr>\n",
       "  </tbody>\n",
       "</table></div>"
      ],
      "text/plain": [
       "       ESTU_TIPODOCUMENTO ESTU_GENERO    ESTU_FECHANACIMIENTO  PERIODO  \\\n",
       "0                      TI           M  02/18/2002 12:00:00 AM    20194   \n",
       "1                      TI           M  06/28/2003 12:00:00 AM    20194   \n",
       "2                      TI           M  06/02/2001 12:00:00 AM    20194   \n",
       "3                      TI           M  04/26/2002 12:00:00 AM    20194   \n",
       "4                      TI           M  02/05/2002 12:00:00 AM    20194   \n",
       "...                   ...         ...                     ...      ...   \n",
       "546207                 CC           M  02/25/1999 12:00:00 AM    20194   \n",
       "546208                 TI           M  10/14/2002 12:00:00 AM    20194   \n",
       "546209                 TI           M  11/22/2002 12:00:00 AM    20194   \n",
       "546210                 TI           M  11/10/2002 12:00:00 AM    20194   \n",
       "546211                 TI           M  06/02/2002 12:00:00 AM    20194   \n",
       "\n",
       "        ESTU_CONSECUTIVO ESTU_ESTUDIANTE ESTU_TIENEETNIA ESTU_PAIS_RESIDE  \\\n",
       "0       SB11201940031558      ESTUDIANTE              No         COLOMBIA   \n",
       "1       SB11201940303339      ESTUDIANTE              No         COLOMBIA   \n",
       "2       SB11201940255017      ESTUDIANTE              No         COLOMBIA   \n",
       "3       SB11201940154799      ESTUDIANTE              Si         COLOMBIA   \n",
       "4       SB11201940280831      ESTUDIANTE              No         COLOMBIA   \n",
       "...                  ...             ...             ...              ...   \n",
       "546207  SB11201940195862      ESTUDIANTE              No         COLOMBIA   \n",
       "546208  SB11201940253002      ESTUDIANTE              No         COLOMBIA   \n",
       "546209  SB11201940364767      ESTUDIANTE              No         COLOMBIA   \n",
       "546210  SB11201940210026      ESTUDIANTE              No         COLOMBIA   \n",
       "546211  SB11201940074679      ESTUDIANTE              No         COLOMBIA   \n",
       "\n",
       "       ESTU_ETNIA ESTU_DEPTO_RESIDE  ... PUNT_INGLES PERCENTIL_INGLES  \\\n",
       "0               -         MAGDALENA  ...        54.0               67   \n",
       "1               -            BOGOTÁ  ...        63.0               88   \n",
       "2               -           BOLIVAR  ...        64.0               89   \n",
       "3         Ninguno            BOGOTÁ  ...        53.0               67   \n",
       "4               -            BOGOTÁ  ...        52.0               63   \n",
       "...           ...               ...  ...         ...              ...   \n",
       "546207          -         ANTIOQUIA  ...        58.0               79   \n",
       "546208          -            BOGOTÁ  ...        74.0               97   \n",
       "546209          -            ARAUCA  ...        72.0               96   \n",
       "546210          -         SANTANDER  ...        46.0               45   \n",
       "546211          -            BOGOTÁ  ...        74.0               97   \n",
       "\n",
       "       DESEMP_INGLES PUNT_GLOBAL PERCENTIL_GLOBAL ESTU_INSE_INDIVIDUAL  \\\n",
       "0                 A1         208               25     50.9421557404314   \n",
       "1                 A2         299               83      59.767864431576   \n",
       "2                 A2         299               84     50.7642383644749   \n",
       "3                 A1         309               88     45.7791353123516   \n",
       "4                 A1         288               78     52.9109464277177   \n",
       "...              ...         ...              ...                  ...   \n",
       "546207            A2         360               99     47.5807720132296   \n",
       "546208            B1         360               99      57.406418472062   \n",
       "546209            B1         377              100     71.2254308010465   \n",
       "546210            A-         278               73     38.1334451267846   \n",
       "546211            B1         365               99     49.7833058735661   \n",
       "\n",
       "       ESTU_NSE_INDIVIDUAL ESTU_NSE_ESTABLECIMIENTO ESTU_ESTADOINVESTIGACION  \\\n",
       "0                      2.0                      2.0                 PUBLICAR   \n",
       "1                      3.0                      4.0                 PUBLICAR   \n",
       "2                      2.0                      3.0                 PUBLICAR   \n",
       "3                      2.0                      3.0                 PUBLICAR   \n",
       "4                      3.0                      3.0                 PUBLICAR   \n",
       "...                    ...                      ...                      ...   \n",
       "546207                 2.0                      2.0                 PUBLICAR   \n",
       "546208                 3.0                      4.0                 PUBLICAR   \n",
       "546209                 4.0                      3.0                 PUBLICAR   \n",
       "546210                 1.0                      2.0                 PUBLICAR   \n",
       "546211                 2.0                      3.0                 PUBLICAR   \n",
       "\n",
       "                              ESTU_GENERACION-E  \n",
       "0                                            NO  \n",
       "1                                            NO  \n",
       "2                      GENERACION E - GRATUIDAD  \n",
       "3                      GENERACION E - GRATUIDAD  \n",
       "4                                            NO  \n",
       "...                                         ...  \n",
       "546207       GENERACION E - EXCELENCIA NACIONAL  \n",
       "546208       GENERACION E - EXCELENCIA NACIONAL  \n",
       "546209  GENERACION E - EXCELENCIA DEPARTAMENTAL  \n",
       "546210                 GENERACION E - GRATUIDAD  \n",
       "546211       GENERACION E - EXCELENCIA NACIONAL  \n",
       "\n",
       "[546212 rows x 81 columns]"
      ]
     },
     "execution_count": 59,
     "metadata": {},
     "output_type": "execute_result"
    }
   ],
   "source": [
    "df.drop( \"ESTU_NACIONALIDAD\", axis=1)"
   ]
  },
  {
   "cell_type": "code",
   "execution_count": 31,
   "id": "8c2467fc",
   "metadata": {},
   "outputs": [
    {
     "data": {
      "text/html": [
       "<div><div id=e6b6d5cc-28d4-4400-ada1-c320bac10e1c style=\"display:none; background-color:#9D6CFF; color:white; width:200px; height:30px; padding-left:5px; border-radius:4px; flex-direction:row; justify-content:space-around; align-items:center;\" onmouseover=\"this.style.backgroundColor='#BA9BF8'\" onmouseout=\"this.style.backgroundColor='#9D6CFF'\" onclick=\"window.commands?.execute('create-mitosheet-from-dataframe-output');\">See Full Dataframe in Mito</div> <script> if (window.commands.hasCommand('create-mitosheet-from-dataframe-output')) document.getElementById('e6b6d5cc-28d4-4400-ada1-c320bac10e1c').style.display = 'flex' </script> <table border=\"1\" class=\"dataframe\">\n",
       "  <thead>\n",
       "    <tr style=\"text-align: right;\">\n",
       "      <th></th>\n",
       "      <th>FAMI_TIENEINTERNET</th>\n",
       "      <th>PUNT_GLOBAL</th>\n",
       "    </tr>\n",
       "  </thead>\n",
       "  <tbody>\n",
       "    <tr>\n",
       "      <th>0</th>\n",
       "      <td>Si</td>\n",
       "      <td>208</td>\n",
       "    </tr>\n",
       "    <tr>\n",
       "      <th>1</th>\n",
       "      <td>Si</td>\n",
       "      <td>299</td>\n",
       "    </tr>\n",
       "    <tr>\n",
       "      <th>2</th>\n",
       "      <td>No</td>\n",
       "      <td>299</td>\n",
       "    </tr>\n",
       "    <tr>\n",
       "      <th>3</th>\n",
       "      <td>No</td>\n",
       "      <td>309</td>\n",
       "    </tr>\n",
       "    <tr>\n",
       "      <th>4</th>\n",
       "      <td>Si</td>\n",
       "      <td>288</td>\n",
       "    </tr>\n",
       "    <tr>\n",
       "      <th>...</th>\n",
       "      <td>...</td>\n",
       "      <td>...</td>\n",
       "    </tr>\n",
       "    <tr>\n",
       "      <th>546207</th>\n",
       "      <td>Si</td>\n",
       "      <td>360</td>\n",
       "    </tr>\n",
       "    <tr>\n",
       "      <th>546208</th>\n",
       "      <td>Si</td>\n",
       "      <td>360</td>\n",
       "    </tr>\n",
       "    <tr>\n",
       "      <th>546209</th>\n",
       "      <td>Si</td>\n",
       "      <td>377</td>\n",
       "    </tr>\n",
       "    <tr>\n",
       "      <th>546210</th>\n",
       "      <td>No</td>\n",
       "      <td>278</td>\n",
       "    </tr>\n",
       "    <tr>\n",
       "      <th>546211</th>\n",
       "      <td>Si</td>\n",
       "      <td>365</td>\n",
       "    </tr>\n",
       "  </tbody>\n",
       "</table></div>"
      ],
      "text/plain": [
       "       FAMI_TIENEINTERNET  PUNT_GLOBAL\n",
       "0                      Si          208\n",
       "1                      Si          299\n",
       "2                      No          299\n",
       "3                      No          309\n",
       "4                      Si          288\n",
       "...                   ...          ...\n",
       "546207                 Si          360\n",
       "546208                 Si          360\n",
       "546209                 Si          377\n",
       "546210                 No          278\n",
       "546211                 Si          365\n",
       "\n",
       "[546212 rows x 2 columns]"
      ]
     },
     "execution_count": 31,
     "metadata": {},
     "output_type": "execute_result"
    }
   ],
   "source": [
    "df[['FAMI_TIENEINTERNET','PUNT_GLOBAL']]"
   ]
  },
  {
   "cell_type": "code",
   "execution_count": 51,
   "id": "d06c7d22",
   "metadata": {},
   "outputs": [],
   "source": [
    " data = df[\n",
    "        [\n",
    "            \"FAMI_ESTRATOVIVIENDA\",\n",
    "            \"FAMI_TIENEINTERNET\",\n",
    "     \n",
    "            \"FAMI_SITUACIONECONOMICA\",\n",
    "            \"PUNT_GLOBAL\",\n",
    "        ]\n",
    "    ].copy()"
   ]
  },
  {
   "cell_type": "code",
   "execution_count": 53,
   "id": "c2875147",
   "metadata": {},
   "outputs": [],
   "source": [
    "data=data.dropna()"
   ]
  },
  {
   "cell_type": "code",
   "execution_count": 74,
   "id": "7ff83d67",
   "metadata": {},
   "outputs": [
    {
     "data": {
      "text/html": [
       "<div>\n",
       "<style scoped>\n",
       "    .dataframe tbody tr th:only-of-type {\n",
       "        vertical-align: middle;\n",
       "    }\n",
       "\n",
       "    .dataframe tbody tr th {\n",
       "        vertical-align: top;\n",
       "    }\n",
       "\n",
       "    .dataframe thead th {\n",
       "        text-align: right;\n",
       "    }\n",
       "</style>\n",
       "<table border=\"1\" class=\"dataframe\">\n",
       "  <thead>\n",
       "    <tr style=\"text-align: right;\">\n",
       "      <th></th>\n",
       "      <th>FAMI_ESTRATOVIVIENDA</th>\n",
       "      <th>FAMI_TIENEINTERNET</th>\n",
       "      <th>FAMI_SITUACIONECONOMICA</th>\n",
       "      <th>PUNT_GLOBAL</th>\n",
       "    </tr>\n",
       "  </thead>\n",
       "  <tbody>\n",
       "    <tr>\n",
       "      <th>0</th>\n",
       "      <td>Estrato 3</td>\n",
       "      <td>Si</td>\n",
       "      <td>Peor</td>\n",
       "      <td>208</td>\n",
       "    </tr>\n",
       "    <tr>\n",
       "      <th>1</th>\n",
       "      <td>Estrato 3</td>\n",
       "      <td>Si</td>\n",
       "      <td>Mejor</td>\n",
       "      <td>299</td>\n",
       "    </tr>\n",
       "    <tr>\n",
       "      <th>2</th>\n",
       "      <td>Estrato 1</td>\n",
       "      <td>No</td>\n",
       "      <td>Igual</td>\n",
       "      <td>299</td>\n",
       "    </tr>\n",
       "    <tr>\n",
       "      <th>3</th>\n",
       "      <td>Estrato 3</td>\n",
       "      <td>No</td>\n",
       "      <td>Igual</td>\n",
       "      <td>309</td>\n",
       "    </tr>\n",
       "    <tr>\n",
       "      <th>4</th>\n",
       "      <td>Estrato 3</td>\n",
       "      <td>Si</td>\n",
       "      <td>Mejor</td>\n",
       "      <td>288</td>\n",
       "    </tr>\n",
       "    <tr>\n",
       "      <th>...</th>\n",
       "      <td>...</td>\n",
       "      <td>...</td>\n",
       "      <td>...</td>\n",
       "      <td>...</td>\n",
       "    </tr>\n",
       "    <tr>\n",
       "      <th>546207</th>\n",
       "      <td>Estrato 2</td>\n",
       "      <td>Si</td>\n",
       "      <td>Igual</td>\n",
       "      <td>360</td>\n",
       "    </tr>\n",
       "    <tr>\n",
       "      <th>546208</th>\n",
       "      <td>Estrato 3</td>\n",
       "      <td>Si</td>\n",
       "      <td>Mejor</td>\n",
       "      <td>360</td>\n",
       "    </tr>\n",
       "    <tr>\n",
       "      <th>546209</th>\n",
       "      <td>Estrato 2</td>\n",
       "      <td>Si</td>\n",
       "      <td>Igual</td>\n",
       "      <td>377</td>\n",
       "    </tr>\n",
       "    <tr>\n",
       "      <th>546210</th>\n",
       "      <td>Estrato 1</td>\n",
       "      <td>No</td>\n",
       "      <td>Igual</td>\n",
       "      <td>278</td>\n",
       "    </tr>\n",
       "    <tr>\n",
       "      <th>546211</th>\n",
       "      <td>Estrato 3</td>\n",
       "      <td>Si</td>\n",
       "      <td>Igual</td>\n",
       "      <td>365</td>\n",
       "    </tr>\n",
       "  </tbody>\n",
       "</table>\n",
       "<p>484477 rows × 4 columns</p>\n",
       "</div>"
      ],
      "text/plain": [
       "       FAMI_ESTRATOVIVIENDA FAMI_TIENEINTERNET FAMI_SITUACIONECONOMICA  \\\n",
       "0                 Estrato 3                 Si                    Peor   \n",
       "1                 Estrato 3                 Si                   Mejor   \n",
       "2                 Estrato 1                 No                   Igual   \n",
       "3                 Estrato 3                 No                   Igual   \n",
       "4                 Estrato 3                 Si                   Mejor   \n",
       "...                     ...                ...                     ...   \n",
       "546207            Estrato 2                 Si                   Igual   \n",
       "546208            Estrato 3                 Si                   Mejor   \n",
       "546209            Estrato 2                 Si                   Igual   \n",
       "546210            Estrato 1                 No                   Igual   \n",
       "546211            Estrato 3                 Si                   Igual   \n",
       "\n",
       "        PUNT_GLOBAL  \n",
       "0               208  \n",
       "1               299  \n",
       "2               299  \n",
       "3               309  \n",
       "4               288  \n",
       "...             ...  \n",
       "546207          360  \n",
       "546208          360  \n",
       "546209          377  \n",
       "546210          278  \n",
       "546211          365  \n",
       "\n",
       "[484477 rows x 4 columns]"
      ]
     },
     "execution_count": 74,
     "metadata": {},
     "output_type": "execute_result"
    }
   ],
   "source": [
    "data.dropna()"
   ]
  },
  {
   "cell_type": "code",
   "execution_count": 66,
   "id": "2e6fbd2a",
   "metadata": {},
   "outputs": [],
   "source": [
    "def replace_values(data, col, valor_original, valor_nuevo):\n",
    "    #data[col] = data[col].fillna(null_to)\n",
    "    data[col] = data[col].apply(lambda x: x if not x==valor_original else valor_nuevo)"
   ]
  },
  {
   "cell_type": "code",
   "execution_count": 65,
   "id": "9f1e0f45",
   "metadata": {},
   "outputs": [],
   "source": [
    "import numpy as np"
   ]
  },
  {
   "cell_type": "code",
   "execution_count": 72,
   "id": "ac7795fe",
   "metadata": {},
   "outputs": [],
   "source": [
    "replace_values(data, 'FAMI_ESTRATOVIVIENDA', '-', np.nan )\n",
    "replace_values(data, 'FAMI_ESTRATOVIVIENDA', 'Sin Estrato', np.nan )\n",
    "replace_values(data, 'FAMI_TIENEINTERNET', '-', np.nan )\n",
    "replace_values(data, 'FAMI_SITUACIONECONOMICA', '-', np.nan )\n"
   ]
  },
  {
   "cell_type": "code",
   "execution_count": null,
   "id": "dba9943e",
   "metadata": {},
   "outputs": [],
   "source": []
  },
  {
   "cell_type": "code",
   "execution_count": 73,
   "id": "a84ebbcd",
   "metadata": {},
   "outputs": [
    {
     "name": "stdout",
     "output_type": "stream",
     "text": [
      "FAMI_ESTRATOVIVIENDA ['Estrato 3' 'Estrato 1' nan 'Estrato 4' 'Estrato 2' 'Estrato 5'\n",
      " 'Estrato 6']\n",
      "FAMI_TIENEINTERNET ['Si' 'No' nan]\n",
      "FAMI_SITUACIONECONOMICA ['Peor' 'Mejor' 'Igual' nan]\n",
      "PUNT_GLOBAL [208 299 309 288 198 355 313 336 187 166 302 281 220 269 319 263 238 292\n",
      " 242 262 298 350 276 237 318 211 254 256 258 266 155 283 179 305 321 250\n",
      " 333 293 357 227 284 212 232 280 202 344 245 260 330 329 316 339 301 190\n",
      " 203 200 278 348 228 294 297 307 295 196 289 216 233 259 296 172 158 173\n",
      " 300 275 222 150 225 194 209 257 185 231 268 193 324 206 240 279 215 195\n",
      " 264 331 186 243 252 219 170 169 285 183 229 267 265 224 226 246 241 282\n",
      " 156 239 366 132 178 148 163 223 207 334 152 291 244 210 168 143 328 230\n",
      " 248 176 192 199 214 326 141 188 290 317 327 251 312 221 353 154 255 362\n",
      " 273 303 372 315 234 287 249 274 311 218 361 167 145  80 365 135 308 325\n",
      " 343 347 270 253 306 314 286 160 204 277 146 342 162 213 201 399 205 174\n",
      " 130 157 182 320 189 217 338 180 352 337 175 332 181 235 197 340 159 272\n",
      " 345 247 364 171 177 236 165 164 310 119 261 142 184 147 191 271 161 149\n",
      " 139 138 131 370 367 137 140 323 144 335 358 375 393 382 322 360 381 397\n",
      " 153 304 346 371 351 369 356 363 151 341 349 386 359 374 385 376 377 403\n",
      " 388 396 383 384 134 133 368 416 122 392 379 411 354 389 380 387 390 373\n",
      " 395 445 136 409 449 418 408 415 410 435 401 407 414 412 128 378 394 125\n",
      " 405 431 111 126 391 424 404 400 446 102 402 420 398 422 473 430 421 437\n",
      " 443 442 413  83  98 417 124 123 107 406 127 425 423  89 117 101 438 115\n",
      " 129 113 104 428 439 441 436 120   0 427 419 426 105 448 433 440 106  86\n",
      "  97 103 460  88 112 108  75 110 452 116  84 432  94  90  58 100  93 457\n",
      " 118 477  99  78 121 434 114 475  95 467  81 444  96 450]\n"
     ]
    }
   ],
   "source": [
    "for col in data.columns:\n",
    "    print(col, data[col].unique())"
   ]
  },
  {
   "cell_type": "code",
   "execution_count": 75,
   "id": "c88bf824",
   "metadata": {},
   "outputs": [],
   "source": [
    "data=data.dropna()"
   ]
  },
  {
   "cell_type": "code",
   "execution_count": 76,
   "id": "6825603b",
   "metadata": {},
   "outputs": [
    {
     "name": "stdout",
     "output_type": "stream",
     "text": [
      "FAMI_ESTRATOVIVIENDA ['Estrato 3' 'Estrato 1' 'Estrato 4' 'Estrato 2' 'Estrato 5' 'Estrato 6']\n",
      "FAMI_TIENEINTERNET ['Si' 'No']\n",
      "FAMI_SITUACIONECONOMICA ['Peor' 'Mejor' 'Igual']\n",
      "PUNT_GLOBAL [208 299 309 288 355 313 336 187 166 302 281 220 269 263 292 242 262 298\n",
      " 350 276 237 318 211 254 256 258 266 155 283 179 305 321 250 333 293 357\n",
      " 227 284 212 232 280 202 344 245 260 330 329 316 339 301 190 203 200 278\n",
      " 348 228 294 297 307 295 196 216 233 259 296 172 173 300 275 222 198 225\n",
      " 194 257 185 238 231 268 193 324 206 240 279 215 209 186 243 252 219 169\n",
      " 285 183 229 267 224 246 241 282 239 366 132 148 163 223 334 244 210 168\n",
      " 143 291 328 230 248 192 199 214 326 195 265 290 264 317 327 251 312 221\n",
      " 289 353 154 255 362 372 315 234 287 274 158 311 218 361 167 188 365 150\n",
      " 135 308 152 325 343 347 303 270 253 306 207 314 286 204 146 342 162 213\n",
      " 201 399 205 174 157 182 320 189 249 217 338 180 352 337 332 181 235 226\n",
      " 197 340 159 272 345 247 364 277 160 171 170 175 236 176 164 310 178 261\n",
      " 142 184 191 271 161 319 165 131 156 370 367 147 137 140 323 177 144 335\n",
      " 358 273 375 393 382 322 331 360 381 397 153 145 304 346 371 149 351 369\n",
      " 356 363 151 341 349 386 359 374 385 376 377 403 388 396 383 134 141 133\n",
      " 368 416 392 379 411 354 389 380 387 390 373 395 445 136 138 409 449 418\n",
      " 408 415 410 435 401 407 414 412 139 378 384 394 405 431 126 391 424 404\n",
      " 400 446 402 420 398 422 473 430 421 437 443 413 130 417 406 425 423 442\n",
      " 438 127 129 128 439 441 436 120 125 427 419 426 448 433 440 460 108  75\n",
      " 428 452 116 432 124 111 123  80 122 457 118 477 106 434 475 467 444 450]\n"
     ]
    }
   ],
   "source": [
    "for col in data.columns:\n",
    "    print(col, data[col].unique())"
   ]
  },
  {
   "cell_type": "code",
   "execution_count": 80,
   "id": "c815a16e",
   "metadata": {},
   "outputs": [
    {
     "data": {
      "text/html": [
       "<div>\n",
       "<style scoped>\n",
       "    .dataframe tbody tr th:only-of-type {\n",
       "        vertical-align: middle;\n",
       "    }\n",
       "\n",
       "    .dataframe tbody tr th {\n",
       "        vertical-align: top;\n",
       "    }\n",
       "\n",
       "    .dataframe thead th {\n",
       "        text-align: right;\n",
       "    }\n",
       "</style>\n",
       "<table border=\"1\" class=\"dataframe\">\n",
       "  <thead>\n",
       "    <tr style=\"text-align: right;\">\n",
       "      <th></th>\n",
       "      <th>PUNT_GLOBAL</th>\n",
       "      <th>FAMI_ESTRATOVIVIENDA_Estrato 1</th>\n",
       "      <th>FAMI_ESTRATOVIVIENDA_Estrato 2</th>\n",
       "      <th>FAMI_ESTRATOVIVIENDA_Estrato 3</th>\n",
       "      <th>FAMI_ESTRATOVIVIENDA_Estrato 4</th>\n",
       "      <th>FAMI_ESTRATOVIVIENDA_Estrato 5</th>\n",
       "      <th>FAMI_ESTRATOVIVIENDA_Estrato 6</th>\n",
       "      <th>FAMI_TIENEINTERNET_No</th>\n",
       "      <th>FAMI_TIENEINTERNET_Si</th>\n",
       "      <th>FAMI_SITUACIONECONOMICA_Igual</th>\n",
       "      <th>FAMI_SITUACIONECONOMICA_Mejor</th>\n",
       "      <th>FAMI_SITUACIONECONOMICA_Peor</th>\n",
       "    </tr>\n",
       "  </thead>\n",
       "  <tbody>\n",
       "    <tr>\n",
       "      <th>232361</th>\n",
       "      <td>256</td>\n",
       "      <td>False</td>\n",
       "      <td>False</td>\n",
       "      <td>True</td>\n",
       "      <td>False</td>\n",
       "      <td>False</td>\n",
       "      <td>False</td>\n",
       "      <td>False</td>\n",
       "      <td>True</td>\n",
       "      <td>False</td>\n",
       "      <td>True</td>\n",
       "      <td>False</td>\n",
       "    </tr>\n",
       "    <tr>\n",
       "      <th>462870</th>\n",
       "      <td>323</td>\n",
       "      <td>False</td>\n",
       "      <td>False</td>\n",
       "      <td>True</td>\n",
       "      <td>False</td>\n",
       "      <td>False</td>\n",
       "      <td>False</td>\n",
       "      <td>False</td>\n",
       "      <td>True</td>\n",
       "      <td>True</td>\n",
       "      <td>False</td>\n",
       "      <td>False</td>\n",
       "    </tr>\n",
       "    <tr>\n",
       "      <th>471249</th>\n",
       "      <td>325</td>\n",
       "      <td>False</td>\n",
       "      <td>False</td>\n",
       "      <td>True</td>\n",
       "      <td>False</td>\n",
       "      <td>False</td>\n",
       "      <td>False</td>\n",
       "      <td>False</td>\n",
       "      <td>True</td>\n",
       "      <td>True</td>\n",
       "      <td>False</td>\n",
       "      <td>False</td>\n",
       "    </tr>\n",
       "    <tr>\n",
       "      <th>287585</th>\n",
       "      <td>236</td>\n",
       "      <td>False</td>\n",
       "      <td>True</td>\n",
       "      <td>False</td>\n",
       "      <td>False</td>\n",
       "      <td>False</td>\n",
       "      <td>False</td>\n",
       "      <td>True</td>\n",
       "      <td>False</td>\n",
       "      <td>True</td>\n",
       "      <td>False</td>\n",
       "      <td>False</td>\n",
       "    </tr>\n",
       "    <tr>\n",
       "      <th>330438</th>\n",
       "      <td>245</td>\n",
       "      <td>False</td>\n",
       "      <td>True</td>\n",
       "      <td>False</td>\n",
       "      <td>False</td>\n",
       "      <td>False</td>\n",
       "      <td>False</td>\n",
       "      <td>True</td>\n",
       "      <td>False</td>\n",
       "      <td>True</td>\n",
       "      <td>False</td>\n",
       "      <td>False</td>\n",
       "    </tr>\n",
       "    <tr>\n",
       "      <th>...</th>\n",
       "      <td>...</td>\n",
       "      <td>...</td>\n",
       "      <td>...</td>\n",
       "      <td>...</td>\n",
       "      <td>...</td>\n",
       "      <td>...</td>\n",
       "      <td>...</td>\n",
       "      <td>...</td>\n",
       "      <td>...</td>\n",
       "      <td>...</td>\n",
       "      <td>...</td>\n",
       "      <td>...</td>\n",
       "    </tr>\n",
       "    <tr>\n",
       "      <th>48269</th>\n",
       "      <td>318</td>\n",
       "      <td>False</td>\n",
       "      <td>False</td>\n",
       "      <td>True</td>\n",
       "      <td>False</td>\n",
       "      <td>False</td>\n",
       "      <td>False</td>\n",
       "      <td>False</td>\n",
       "      <td>True</td>\n",
       "      <td>False</td>\n",
       "      <td>False</td>\n",
       "      <td>True</td>\n",
       "    </tr>\n",
       "    <tr>\n",
       "      <th>409502</th>\n",
       "      <td>203</td>\n",
       "      <td>False</td>\n",
       "      <td>False</td>\n",
       "      <td>True</td>\n",
       "      <td>False</td>\n",
       "      <td>False</td>\n",
       "      <td>False</td>\n",
       "      <td>False</td>\n",
       "      <td>True</td>\n",
       "      <td>False</td>\n",
       "      <td>True</td>\n",
       "      <td>False</td>\n",
       "    </tr>\n",
       "    <tr>\n",
       "      <th>478961</th>\n",
       "      <td>332</td>\n",
       "      <td>False</td>\n",
       "      <td>True</td>\n",
       "      <td>False</td>\n",
       "      <td>False</td>\n",
       "      <td>False</td>\n",
       "      <td>False</td>\n",
       "      <td>False</td>\n",
       "      <td>True</td>\n",
       "      <td>True</td>\n",
       "      <td>False</td>\n",
       "      <td>False</td>\n",
       "    </tr>\n",
       "    <tr>\n",
       "      <th>146641</th>\n",
       "      <td>198</td>\n",
       "      <td>False</td>\n",
       "      <td>True</td>\n",
       "      <td>False</td>\n",
       "      <td>False</td>\n",
       "      <td>False</td>\n",
       "      <td>False</td>\n",
       "      <td>True</td>\n",
       "      <td>False</td>\n",
       "      <td>False</td>\n",
       "      <td>False</td>\n",
       "      <td>True</td>\n",
       "    </tr>\n",
       "    <tr>\n",
       "      <th>142860</th>\n",
       "      <td>247</td>\n",
       "      <td>False</td>\n",
       "      <td>True</td>\n",
       "      <td>False</td>\n",
       "      <td>False</td>\n",
       "      <td>False</td>\n",
       "      <td>False</td>\n",
       "      <td>False</td>\n",
       "      <td>True</td>\n",
       "      <td>False</td>\n",
       "      <td>True</td>\n",
       "      <td>False</td>\n",
       "    </tr>\n",
       "  </tbody>\n",
       "</table>\n",
       "<p>10000 rows × 12 columns</p>\n",
       "</div>"
      ],
      "text/plain": [
       "        PUNT_GLOBAL  FAMI_ESTRATOVIVIENDA_Estrato 1  \\\n",
       "232361          256                           False   \n",
       "462870          323                           False   \n",
       "471249          325                           False   \n",
       "287585          236                           False   \n",
       "330438          245                           False   \n",
       "...             ...                             ...   \n",
       "48269           318                           False   \n",
       "409502          203                           False   \n",
       "478961          332                           False   \n",
       "146641          198                           False   \n",
       "142860          247                           False   \n",
       "\n",
       "        FAMI_ESTRATOVIVIENDA_Estrato 2  FAMI_ESTRATOVIVIENDA_Estrato 3  \\\n",
       "232361                           False                            True   \n",
       "462870                           False                            True   \n",
       "471249                           False                            True   \n",
       "287585                            True                           False   \n",
       "330438                            True                           False   \n",
       "...                                ...                             ...   \n",
       "48269                            False                            True   \n",
       "409502                           False                            True   \n",
       "478961                            True                           False   \n",
       "146641                            True                           False   \n",
       "142860                            True                           False   \n",
       "\n",
       "        FAMI_ESTRATOVIVIENDA_Estrato 4  FAMI_ESTRATOVIVIENDA_Estrato 5  \\\n",
       "232361                           False                           False   \n",
       "462870                           False                           False   \n",
       "471249                           False                           False   \n",
       "287585                           False                           False   \n",
       "330438                           False                           False   \n",
       "...                                ...                             ...   \n",
       "48269                            False                           False   \n",
       "409502                           False                           False   \n",
       "478961                           False                           False   \n",
       "146641                           False                           False   \n",
       "142860                           False                           False   \n",
       "\n",
       "        FAMI_ESTRATOVIVIENDA_Estrato 6  FAMI_TIENEINTERNET_No  \\\n",
       "232361                           False                  False   \n",
       "462870                           False                  False   \n",
       "471249                           False                  False   \n",
       "287585                           False                   True   \n",
       "330438                           False                   True   \n",
       "...                                ...                    ...   \n",
       "48269                            False                  False   \n",
       "409502                           False                  False   \n",
       "478961                           False                  False   \n",
       "146641                           False                   True   \n",
       "142860                           False                  False   \n",
       "\n",
       "        FAMI_TIENEINTERNET_Si  FAMI_SITUACIONECONOMICA_Igual  \\\n",
       "232361                   True                          False   \n",
       "462870                   True                           True   \n",
       "471249                   True                           True   \n",
       "287585                  False                           True   \n",
       "330438                  False                           True   \n",
       "...                       ...                            ...   \n",
       "48269                    True                          False   \n",
       "409502                   True                          False   \n",
       "478961                   True                           True   \n",
       "146641                  False                          False   \n",
       "142860                   True                          False   \n",
       "\n",
       "        FAMI_SITUACIONECONOMICA_Mejor  FAMI_SITUACIONECONOMICA_Peor  \n",
       "232361                           True                         False  \n",
       "462870                          False                         False  \n",
       "471249                          False                         False  \n",
       "287585                          False                         False  \n",
       "330438                          False                         False  \n",
       "...                               ...                           ...  \n",
       "48269                           False                          True  \n",
       "409502                           True                         False  \n",
       "478961                          False                         False  \n",
       "146641                          False                          True  \n",
       "142860                           True                         False  \n",
       "\n",
       "[10000 rows x 12 columns]"
      ]
     },
     "execution_count": 80,
     "metadata": {},
     "output_type": "execute_result"
    }
   ],
   "source": [
    "data_model"
   ]
  },
  {
   "cell_type": "code",
   "execution_count": 79,
   "id": "38b96969",
   "metadata": {},
   "outputs": [],
   "source": [
    "data_model= pd.get_dummies(data).sample(10000)\n",
    "\n",
    "\n",
    "X= data_model.drop(\"PUNT_GLOBAL\", axis=1)\n",
    "y= data_model[\"PUNT_GLOBAL\"]"
   ]
  },
  {
   "cell_type": "code",
   "execution_count": 82,
   "id": "48fcb50c",
   "metadata": {},
   "outputs": [],
   "source": [
    "from sklearn.model_selection import train_test_split"
   ]
  },
  {
   "cell_type": "code",
   "execution_count": 83,
   "id": "8db64a5a",
   "metadata": {},
   "outputs": [],
   "source": [
    "x_train, x_test, y_train, y_test = train_test_split(X,y, test_size=0.2)"
   ]
  },
  {
   "cell_type": "code",
   "execution_count": 81,
   "id": "90c89d01",
   "metadata": {},
   "outputs": [],
   "source": [
    "from sklearn.ensemble import RandomForestRegressor"
   ]
  },
  {
   "cell_type": "code",
   "execution_count": 84,
   "id": "aa55f854",
   "metadata": {},
   "outputs": [],
   "source": [
    "rf = RandomForestRegressor(random_state=1234)"
   ]
  },
  {
   "cell_type": "code",
   "execution_count": 87,
   "id": "c7d9d84b",
   "metadata": {},
   "outputs": [
    {
     "data": {
      "text/html": [
       "<style>#sk-container-id-3 {color: black;}#sk-container-id-3 pre{padding: 0;}#sk-container-id-3 div.sk-toggleable {background-color: white;}#sk-container-id-3 label.sk-toggleable__label {cursor: pointer;display: block;width: 100%;margin-bottom: 0;padding: 0.3em;box-sizing: border-box;text-align: center;}#sk-container-id-3 label.sk-toggleable__label-arrow:before {content: \"▸\";float: left;margin-right: 0.25em;color: #696969;}#sk-container-id-3 label.sk-toggleable__label-arrow:hover:before {color: black;}#sk-container-id-3 div.sk-estimator:hover label.sk-toggleable__label-arrow:before {color: black;}#sk-container-id-3 div.sk-toggleable__content {max-height: 0;max-width: 0;overflow: hidden;text-align: left;background-color: #f0f8ff;}#sk-container-id-3 div.sk-toggleable__content pre {margin: 0.2em;color: black;border-radius: 0.25em;background-color: #f0f8ff;}#sk-container-id-3 input.sk-toggleable__control:checked~div.sk-toggleable__content {max-height: 200px;max-width: 100%;overflow: auto;}#sk-container-id-3 input.sk-toggleable__control:checked~label.sk-toggleable__label-arrow:before {content: \"▾\";}#sk-container-id-3 div.sk-estimator input.sk-toggleable__control:checked~label.sk-toggleable__label {background-color: #d4ebff;}#sk-container-id-3 div.sk-label input.sk-toggleable__control:checked~label.sk-toggleable__label {background-color: #d4ebff;}#sk-container-id-3 input.sk-hidden--visually {border: 0;clip: rect(1px 1px 1px 1px);clip: rect(1px, 1px, 1px, 1px);height: 1px;margin: -1px;overflow: hidden;padding: 0;position: absolute;width: 1px;}#sk-container-id-3 div.sk-estimator {font-family: monospace;background-color: #f0f8ff;border: 1px dotted black;border-radius: 0.25em;box-sizing: border-box;margin-bottom: 0.5em;}#sk-container-id-3 div.sk-estimator:hover {background-color: #d4ebff;}#sk-container-id-3 div.sk-parallel-item::after {content: \"\";width: 100%;border-bottom: 1px solid gray;flex-grow: 1;}#sk-container-id-3 div.sk-label:hover label.sk-toggleable__label {background-color: #d4ebff;}#sk-container-id-3 div.sk-serial::before {content: \"\";position: absolute;border-left: 1px solid gray;box-sizing: border-box;top: 0;bottom: 0;left: 50%;z-index: 0;}#sk-container-id-3 div.sk-serial {display: flex;flex-direction: column;align-items: center;background-color: white;padding-right: 0.2em;padding-left: 0.2em;position: relative;}#sk-container-id-3 div.sk-item {position: relative;z-index: 1;}#sk-container-id-3 div.sk-parallel {display: flex;align-items: stretch;justify-content: center;background-color: white;position: relative;}#sk-container-id-3 div.sk-item::before, #sk-container-id-3 div.sk-parallel-item::before {content: \"\";position: absolute;border-left: 1px solid gray;box-sizing: border-box;top: 0;bottom: 0;left: 50%;z-index: -1;}#sk-container-id-3 div.sk-parallel-item {display: flex;flex-direction: column;z-index: 1;position: relative;background-color: white;}#sk-container-id-3 div.sk-parallel-item:first-child::after {align-self: flex-end;width: 50%;}#sk-container-id-3 div.sk-parallel-item:last-child::after {align-self: flex-start;width: 50%;}#sk-container-id-3 div.sk-parallel-item:only-child::after {width: 0;}#sk-container-id-3 div.sk-dashed-wrapped {border: 1px dashed gray;margin: 0 0.4em 0.5em 0.4em;box-sizing: border-box;padding-bottom: 0.4em;background-color: white;}#sk-container-id-3 div.sk-label label {font-family: monospace;font-weight: bold;display: inline-block;line-height: 1.2em;}#sk-container-id-3 div.sk-label-container {text-align: center;}#sk-container-id-3 div.sk-container {/* jupyter's `normalize.less` sets `[hidden] { display: none; }` but bootstrap.min.css set `[hidden] { display: none !important; }` so we also need the `!important` here to be able to override the default hidden behavior on the sphinx rendered scikit-learn.org. See: https://github.com/scikit-learn/scikit-learn/issues/21755 */display: inline-block !important;position: relative;}#sk-container-id-3 div.sk-text-repr-fallback {display: none;}</style><div id=\"sk-container-id-3\" class=\"sk-top-container\"><div class=\"sk-text-repr-fallback\"><pre>RandomForestRegressor(random_state=1234)</pre><b>In a Jupyter environment, please rerun this cell to show the HTML representation or trust the notebook. <br />On GitHub, the HTML representation is unable to render, please try loading this page with nbviewer.org.</b></div><div class=\"sk-container\" hidden><div class=\"sk-item\"><div class=\"sk-estimator sk-toggleable\"><input class=\"sk-toggleable__control sk-hidden--visually\" id=\"sk-estimator-id-3\" type=\"checkbox\" checked><label for=\"sk-estimator-id-3\" class=\"sk-toggleable__label sk-toggleable__label-arrow\">RandomForestRegressor</label><div class=\"sk-toggleable__content\"><pre>RandomForestRegressor(random_state=1234)</pre></div></div></div></div></div>"
      ],
      "text/plain": [
       "RandomForestRegressor(random_state=1234)"
      ]
     },
     "execution_count": 87,
     "metadata": {},
     "output_type": "execute_result"
    }
   ],
   "source": [
    "rf.fit(x_train,y_train)"
   ]
  },
  {
   "cell_type": "code",
   "execution_count": 86,
   "id": "524abc01",
   "metadata": {},
   "outputs": [],
   "source": [
    "y_pred=rf.predict(x_test)"
   ]
  },
  {
   "cell_type": "code",
   "execution_count": 88,
   "id": "d976b57a",
   "metadata": {},
   "outputs": [],
   "source": [
    "from sklearn.metrics import max_error, r2_score"
   ]
  },
  {
   "cell_type": "code",
   "execution_count": 90,
   "id": "ed9e411d",
   "metadata": {},
   "outputs": [
    {
     "data": {
      "text/plain": [
       "0.10732254125061436"
      ]
     },
     "execution_count": 90,
     "metadata": {},
     "output_type": "execute_result"
    }
   ],
   "source": [
    "r2_score(y_test, y_pred)"
   ]
  },
  {
   "cell_type": "code",
   "execution_count": 91,
   "id": "3f8072ec",
   "metadata": {},
   "outputs": [],
   "source": [
    "import joblib"
   ]
  },
  {
   "cell_type": "code",
   "execution_count": null,
   "id": "1b761acd",
   "metadata": {},
   "outputs": [],
   "source": []
  },
  {
   "cell_type": "code",
   "execution_count": null,
   "id": "17d2a034",
   "metadata": {},
   "outputs": [],
   "source": []
  },
  {
   "cell_type": "code",
   "execution_count": 109,
   "id": "f826f636",
   "metadata": {},
   "outputs": [
    {
     "data": {
      "text/plain": [
       "166.48577668003094"
      ]
     },
     "execution_count": 109,
     "metadata": {},
     "output_type": "execute_result"
    }
   ],
   "source": [
    "max_error (y, rf.predict(X))"
   ]
  },
  {
   "cell_type": "code",
   "execution_count": 110,
   "id": "61740025",
   "metadata": {},
   "outputs": [
    {
     "data": {
      "text/plain": [
       "0.8088676092933973"
      ]
     },
     "execution_count": 110,
     "metadata": {},
     "output_type": "execute_result"
    }
   ],
   "source": [
    "r2_score(y, rf.predict(X))"
   ]
  },
  {
   "cell_type": "code",
   "execution_count": 112,
   "id": "be5faabb",
   "metadata": {},
   "outputs": [],
   "source": [
    "data_model2= pd.get_dummies(data).drop(\"PUNT_GLOBAL\", axis=1)"
   ]
  },
  {
   "cell_type": "code",
   "execution_count": 113,
   "id": "a8d8efb5",
   "metadata": {},
   "outputs": [
    {
     "data": {
      "text/plain": [
       "0.2485135525511325"
      ]
     },
     "execution_count": 113,
     "metadata": {},
     "output_type": "execute_result"
    }
   ],
   "source": [
    "r2_score(data['PUNT_GLOBAL'], rf.predict(data_model2))"
   ]
  },
  {
   "cell_type": "code",
   "execution_count": 114,
   "id": "bba5f0d1",
   "metadata": {},
   "outputs": [
    {
     "data": {
      "text/plain": [
       "223.3383526658527"
      ]
     },
     "execution_count": 114,
     "metadata": {},
     "output_type": "execute_result"
    }
   ],
   "source": [
    "max_error (data['PUNT_GLOBAL'], rf.predict(data_model2))"
   ]
  },
  {
   "cell_type": "code",
   "execution_count": 92,
   "id": "9fb288de",
   "metadata": {},
   "outputs": [],
   "source": [
    "from sklearn.cluster import KMeans"
   ]
  },
  {
   "cell_type": "code",
   "execution_count": 93,
   "id": "4292c2bd",
   "metadata": {},
   "outputs": [
    {
     "data": {
      "text/plain": [
       "array([[208, 299, 299, ..., 377, 278, 365]], dtype=int64)"
      ]
     },
     "execution_count": 93,
     "metadata": {},
     "output_type": "execute_result"
    }
   ],
   "source": [
    "data[\"PUNT_GLOBAL\"].values.reshape(1, -1)"
   ]
  },
  {
   "cell_type": "code",
   "execution_count": null,
   "id": "ed4294d5",
   "metadata": {},
   "outputs": [],
   "source": []
  },
  {
   "cell_type": "code",
   "execution_count": 101,
   "id": "6bbf4f27",
   "metadata": {},
   "outputs": [
    {
     "name": "stderr",
     "output_type": "stream",
     "text": [
      "C:\\ProgramData\\Anaconda3\\Lib\\site-packages\\sklearn\\cluster\\_kmeans.py:1412: FutureWarning: The default value of `n_init` will change from 10 to 'auto' in 1.4. Set the value of `n_init` explicitly to suppress the warning\n",
      "  super()._check_params_vs_input(X, default_n_init=10)\n"
     ]
    },
    {
     "data": {
      "text/html": [
       "<style>#sk-container-id-6 {color: black;}#sk-container-id-6 pre{padding: 0;}#sk-container-id-6 div.sk-toggleable {background-color: white;}#sk-container-id-6 label.sk-toggleable__label {cursor: pointer;display: block;width: 100%;margin-bottom: 0;padding: 0.3em;box-sizing: border-box;text-align: center;}#sk-container-id-6 label.sk-toggleable__label-arrow:before {content: \"▸\";float: left;margin-right: 0.25em;color: #696969;}#sk-container-id-6 label.sk-toggleable__label-arrow:hover:before {color: black;}#sk-container-id-6 div.sk-estimator:hover label.sk-toggleable__label-arrow:before {color: black;}#sk-container-id-6 div.sk-toggleable__content {max-height: 0;max-width: 0;overflow: hidden;text-align: left;background-color: #f0f8ff;}#sk-container-id-6 div.sk-toggleable__content pre {margin: 0.2em;color: black;border-radius: 0.25em;background-color: #f0f8ff;}#sk-container-id-6 input.sk-toggleable__control:checked~div.sk-toggleable__content {max-height: 200px;max-width: 100%;overflow: auto;}#sk-container-id-6 input.sk-toggleable__control:checked~label.sk-toggleable__label-arrow:before {content: \"▾\";}#sk-container-id-6 div.sk-estimator input.sk-toggleable__control:checked~label.sk-toggleable__label {background-color: #d4ebff;}#sk-container-id-6 div.sk-label input.sk-toggleable__control:checked~label.sk-toggleable__label {background-color: #d4ebff;}#sk-container-id-6 input.sk-hidden--visually {border: 0;clip: rect(1px 1px 1px 1px);clip: rect(1px, 1px, 1px, 1px);height: 1px;margin: -1px;overflow: hidden;padding: 0;position: absolute;width: 1px;}#sk-container-id-6 div.sk-estimator {font-family: monospace;background-color: #f0f8ff;border: 1px dotted black;border-radius: 0.25em;box-sizing: border-box;margin-bottom: 0.5em;}#sk-container-id-6 div.sk-estimator:hover {background-color: #d4ebff;}#sk-container-id-6 div.sk-parallel-item::after {content: \"\";width: 100%;border-bottom: 1px solid gray;flex-grow: 1;}#sk-container-id-6 div.sk-label:hover label.sk-toggleable__label {background-color: #d4ebff;}#sk-container-id-6 div.sk-serial::before {content: \"\";position: absolute;border-left: 1px solid gray;box-sizing: border-box;top: 0;bottom: 0;left: 50%;z-index: 0;}#sk-container-id-6 div.sk-serial {display: flex;flex-direction: column;align-items: center;background-color: white;padding-right: 0.2em;padding-left: 0.2em;position: relative;}#sk-container-id-6 div.sk-item {position: relative;z-index: 1;}#sk-container-id-6 div.sk-parallel {display: flex;align-items: stretch;justify-content: center;background-color: white;position: relative;}#sk-container-id-6 div.sk-item::before, #sk-container-id-6 div.sk-parallel-item::before {content: \"\";position: absolute;border-left: 1px solid gray;box-sizing: border-box;top: 0;bottom: 0;left: 50%;z-index: -1;}#sk-container-id-6 div.sk-parallel-item {display: flex;flex-direction: column;z-index: 1;position: relative;background-color: white;}#sk-container-id-6 div.sk-parallel-item:first-child::after {align-self: flex-end;width: 50%;}#sk-container-id-6 div.sk-parallel-item:last-child::after {align-self: flex-start;width: 50%;}#sk-container-id-6 div.sk-parallel-item:only-child::after {width: 0;}#sk-container-id-6 div.sk-dashed-wrapped {border: 1px dashed gray;margin: 0 0.4em 0.5em 0.4em;box-sizing: border-box;padding-bottom: 0.4em;background-color: white;}#sk-container-id-6 div.sk-label label {font-family: monospace;font-weight: bold;display: inline-block;line-height: 1.2em;}#sk-container-id-6 div.sk-label-container {text-align: center;}#sk-container-id-6 div.sk-container {/* jupyter's `normalize.less` sets `[hidden] { display: none; }` but bootstrap.min.css set `[hidden] { display: none !important; }` so we also need the `!important` here to be able to override the default hidden behavior on the sphinx rendered scikit-learn.org. See: https://github.com/scikit-learn/scikit-learn/issues/21755 */display: inline-block !important;position: relative;}#sk-container-id-6 div.sk-text-repr-fallback {display: none;}</style><div id=\"sk-container-id-6\" class=\"sk-top-container\"><div class=\"sk-text-repr-fallback\"><pre>KMeans(n_clusters=2, random_state=1234)</pre><b>In a Jupyter environment, please rerun this cell to show the HTML representation or trust the notebook. <br />On GitHub, the HTML representation is unable to render, please try loading this page with nbviewer.org.</b></div><div class=\"sk-container\" hidden><div class=\"sk-item\"><div class=\"sk-estimator sk-toggleable\"><input class=\"sk-toggleable__control sk-hidden--visually\" id=\"sk-estimator-id-6\" type=\"checkbox\" checked><label for=\"sk-estimator-id-6\" class=\"sk-toggleable__label sk-toggleable__label-arrow\">KMeans</label><div class=\"sk-toggleable__content\"><pre>KMeans(n_clusters=2, random_state=1234)</pre></div></div></div></div></div>"
      ],
      "text/plain": [
       "KMeans(n_clusters=2, random_state=1234)"
      ]
     },
     "execution_count": 101,
     "metadata": {},
     "output_type": "execute_result"
    }
   ],
   "source": [
    "model = KMeans(n_clusters=2, random_state=1234)\n",
    "model.fit(data_model[\"PUNT_GLOBAL\"].T.values.reshape(-1,1))\n",
    "\n"
   ]
  },
  {
   "cell_type": "code",
   "execution_count": 102,
   "id": "56978b20",
   "metadata": {},
   "outputs": [],
   "source": [
    "data_model['Cluster'] = model.predict(data_model[\"PUNT_GLOBAL\"].T.values.reshape(-1,1))"
   ]
  },
  {
   "cell_type": "code",
   "execution_count": 103,
   "id": "4baaf823",
   "metadata": {},
   "outputs": [
    {
     "data": {
      "text/html": [
       "<div>\n",
       "<style scoped>\n",
       "    .dataframe tbody tr th:only-of-type {\n",
       "        vertical-align: middle;\n",
       "    }\n",
       "\n",
       "    .dataframe tbody tr th {\n",
       "        vertical-align: top;\n",
       "    }\n",
       "\n",
       "    .dataframe thead th {\n",
       "        text-align: right;\n",
       "    }\n",
       "</style>\n",
       "<table border=\"1\" class=\"dataframe\">\n",
       "  <thead>\n",
       "    <tr style=\"text-align: right;\">\n",
       "      <th></th>\n",
       "      <th>PUNT_GLOBAL</th>\n",
       "      <th>Cluster</th>\n",
       "    </tr>\n",
       "  </thead>\n",
       "  <tbody>\n",
       "    <tr>\n",
       "      <th>232361</th>\n",
       "      <td>256</td>\n",
       "      <td>0</td>\n",
       "    </tr>\n",
       "    <tr>\n",
       "      <th>462870</th>\n",
       "      <td>323</td>\n",
       "      <td>0</td>\n",
       "    </tr>\n",
       "    <tr>\n",
       "      <th>471249</th>\n",
       "      <td>325</td>\n",
       "      <td>0</td>\n",
       "    </tr>\n",
       "    <tr>\n",
       "      <th>287585</th>\n",
       "      <td>236</td>\n",
       "      <td>1</td>\n",
       "    </tr>\n",
       "    <tr>\n",
       "      <th>330438</th>\n",
       "      <td>245</td>\n",
       "      <td>1</td>\n",
       "    </tr>\n",
       "    <tr>\n",
       "      <th>...</th>\n",
       "      <td>...</td>\n",
       "      <td>...</td>\n",
       "    </tr>\n",
       "    <tr>\n",
       "      <th>48269</th>\n",
       "      <td>318</td>\n",
       "      <td>0</td>\n",
       "    </tr>\n",
       "    <tr>\n",
       "      <th>409502</th>\n",
       "      <td>203</td>\n",
       "      <td>1</td>\n",
       "    </tr>\n",
       "    <tr>\n",
       "      <th>478961</th>\n",
       "      <td>332</td>\n",
       "      <td>0</td>\n",
       "    </tr>\n",
       "    <tr>\n",
       "      <th>146641</th>\n",
       "      <td>198</td>\n",
       "      <td>1</td>\n",
       "    </tr>\n",
       "    <tr>\n",
       "      <th>142860</th>\n",
       "      <td>247</td>\n",
       "      <td>1</td>\n",
       "    </tr>\n",
       "  </tbody>\n",
       "</table>\n",
       "<p>10000 rows × 2 columns</p>\n",
       "</div>"
      ],
      "text/plain": [
       "        PUNT_GLOBAL  Cluster\n",
       "232361          256        0\n",
       "462870          323        0\n",
       "471249          325        0\n",
       "287585          236        1\n",
       "330438          245        1\n",
       "...             ...      ...\n",
       "48269           318        0\n",
       "409502          203        1\n",
       "478961          332        0\n",
       "146641          198        1\n",
       "142860          247        1\n",
       "\n",
       "[10000 rows x 2 columns]"
      ]
     },
     "execution_count": 103,
     "metadata": {},
     "output_type": "execute_result"
    }
   ],
   "source": [
    "data_model[[\"PUNT_GLOBAL\", 'Cluster']]"
   ]
  },
  {
   "cell_type": "code",
   "execution_count": 104,
   "id": "c48f3cbb",
   "metadata": {},
   "outputs": [
    {
     "data": {
      "text/plain": [
       "<Axes: xlabel='PUNT_GLOBAL', ylabel='PUNT_GLOBAL'>"
      ]
     },
     "execution_count": 104,
     "metadata": {},
     "output_type": "execute_result"
    },
    {
     "data": {
      "image/png": "[encoded data removed]",
      "text/plain": [
       "<Figure size 640x480 with 1 Axes>"
      ]
     },
     "metadata": {},
     "output_type": "display_data"
    }
   ],
   "source": [
    "import seaborn as sns\n",
    "\n",
    "sns.scatterplot( x=data_model[\"PUNT_GLOBAL\"], y=data_model[\"PUNT_GLOBAL\"], hue=data[ 'Cluster'])"
   ]
  },
  {
   "cell_type": "code",
   "execution_count": 105,
   "id": "da621c51",
   "metadata": {},
   "outputs": [],
   "source": [
    "from sklearn.ensemble import RandomForestClassifier"
   ]
  },
  {
   "cell_type": "code",
   "execution_count": null,
   "id": "11ea7590",
   "metadata": {},
   "outputs": [],
   "source": []
  },
  {
   "cell_type": "code",
   "execution_count": 109,
   "id": "2cc3eed1",
   "metadata": {},
   "outputs": [],
   "source": [
    "X= data_model.drop(\"PUNT_GLOBAL\", axis=1).drop('Cluster', axis=1)\n",
    "y= data_model['Cluster']"
   ]
  },
  {
   "cell_type": "code",
   "execution_count": 108,
   "id": "02dcc0c5",
   "metadata": {},
   "outputs": [],
   "source": [
    "x_train, x_test, y_train, y_test = train_test_split(X,y, test_size=0.2)"
   ]
  },
  {
   "cell_type": "code",
   "execution_count": 111,
   "id": "340c5bb2",
   "metadata": {},
   "outputs": [],
   "source": [
    "rfc = RandomForestClassifier(random_state=1234)"
   ]
  },
  {
   "cell_type": "code",
   "execution_count": 112,
   "id": "1682bec7",
   "metadata": {},
   "outputs": [
    {
     "data": {
      "text/html": [
       "<style>#sk-container-id-7 {color: black;}#sk-container-id-7 pre{padding: 0;}#sk-container-id-7 div.sk-toggleable {background-color: white;}#sk-container-id-7 label.sk-toggleable__label {cursor: pointer;display: block;width: 100%;margin-bottom: 0;padding: 0.3em;box-sizing: border-box;text-align: center;}#sk-container-id-7 label.sk-toggleable__label-arrow:before {content: \"▸\";float: left;margin-right: 0.25em;color: #696969;}#sk-container-id-7 label.sk-toggleable__label-arrow:hover:before {color: black;}#sk-container-id-7 div.sk-estimator:hover label.sk-toggleable__label-arrow:before {color: black;}#sk-container-id-7 div.sk-toggleable__content {max-height: 0;max-width: 0;overflow: hidden;text-align: left;background-color: #f0f8ff;}#sk-container-id-7 div.sk-toggleable__content pre {margin: 0.2em;color: black;border-radius: 0.25em;background-color: #f0f8ff;}#sk-container-id-7 input.sk-toggleable__control:checked~div.sk-toggleable__content {max-height: 200px;max-width: 100%;overflow: auto;}#sk-container-id-7 input.sk-toggleable__control:checked~label.sk-toggleable__label-arrow:before {content: \"▾\";}#sk-container-id-7 div.sk-estimator input.sk-toggleable__control:checked~label.sk-toggleable__label {background-color: #d4ebff;}#sk-container-id-7 div.sk-label input.sk-toggleable__control:checked~label.sk-toggleable__label {background-color: #d4ebff;}#sk-container-id-7 input.sk-hidden--visually {border: 0;clip: rect(1px 1px 1px 1px);clip: rect(1px, 1px, 1px, 1px);height: 1px;margin: -1px;overflow: hidden;padding: 0;position: absolute;width: 1px;}#sk-container-id-7 div.sk-estimator {font-family: monospace;background-color: #f0f8ff;border: 1px dotted black;border-radius: 0.25em;box-sizing: border-box;margin-bottom: 0.5em;}#sk-container-id-7 div.sk-estimator:hover {background-color: #d4ebff;}#sk-container-id-7 div.sk-parallel-item::after {content: \"\";width: 100%;border-bottom: 1px solid gray;flex-grow: 1;}#sk-container-id-7 div.sk-label:hover label.sk-toggleable__label {background-color: #d4ebff;}#sk-container-id-7 div.sk-serial::before {content: \"\";position: absolute;border-left: 1px solid gray;box-sizing: border-box;top: 0;bottom: 0;left: 50%;z-index: 0;}#sk-container-id-7 div.sk-serial {display: flex;flex-direction: column;align-items: center;background-color: white;padding-right: 0.2em;padding-left: 0.2em;position: relative;}#sk-container-id-7 div.sk-item {position: relative;z-index: 1;}#sk-container-id-7 div.sk-parallel {display: flex;align-items: stretch;justify-content: center;background-color: white;position: relative;}#sk-container-id-7 div.sk-item::before, #sk-container-id-7 div.sk-parallel-item::before {content: \"\";position: absolute;border-left: 1px solid gray;box-sizing: border-box;top: 0;bottom: 0;left: 50%;z-index: -1;}#sk-container-id-7 div.sk-parallel-item {display: flex;flex-direction: column;z-index: 1;position: relative;background-color: white;}#sk-container-id-7 div.sk-parallel-item:first-child::after {align-self: flex-end;width: 50%;}#sk-container-id-7 div.sk-parallel-item:last-child::after {align-self: flex-start;width: 50%;}#sk-container-id-7 div.sk-parallel-item:only-child::after {width: 0;}#sk-container-id-7 div.sk-dashed-wrapped {border: 1px dashed gray;margin: 0 0.4em 0.5em 0.4em;box-sizing: border-box;padding-bottom: 0.4em;background-color: white;}#sk-container-id-7 div.sk-label label {font-family: monospace;font-weight: bold;display: inline-block;line-height: 1.2em;}#sk-container-id-7 div.sk-label-container {text-align: center;}#sk-container-id-7 div.sk-container {/* jupyter's `normalize.less` sets `[hidden] { display: none; }` but bootstrap.min.css set `[hidden] { display: none !important; }` so we also need the `!important` here to be able to override the default hidden behavior on the sphinx rendered scikit-learn.org. See: https://github.com/scikit-learn/scikit-learn/issues/21755 */display: inline-block !important;position: relative;}#sk-container-id-7 div.sk-text-repr-fallback {display: none;}</style><div id=\"sk-container-id-7\" class=\"sk-top-container\"><div class=\"sk-text-repr-fallback\"><pre>RandomForestClassifier(random_state=1234)</pre><b>In a Jupyter environment, please rerun this cell to show the HTML representation or trust the notebook. <br />On GitHub, the HTML representation is unable to render, please try loading this page with nbviewer.org.</b></div><div class=\"sk-container\" hidden><div class=\"sk-item\"><div class=\"sk-estimator sk-toggleable\"><input class=\"sk-toggleable__control sk-hidden--visually\" id=\"sk-estimator-id-7\" type=\"checkbox\" checked><label for=\"sk-estimator-id-7\" class=\"sk-toggleable__label sk-toggleable__label-arrow\">RandomForestClassifier</label><div class=\"sk-toggleable__content\"><pre>RandomForestClassifier(random_state=1234)</pre></div></div></div></div></div>"
      ],
      "text/plain": [
       "RandomForestClassifier(random_state=1234)"
      ]
     },
     "execution_count": 112,
     "metadata": {},
     "output_type": "execute_result"
    }
   ],
   "source": [
    "rfc.fit(x_train, y_train)"
   ]
  },
  {
   "cell_type": "code",
   "execution_count": 113,
   "id": "dc86a86e",
   "metadata": {},
   "outputs": [],
   "source": [
    "y_pred=rfc.predict(x_test)"
   ]
  },
  {
   "cell_type": "code",
   "execution_count": 114,
   "id": "7a900139",
   "metadata": {},
   "outputs": [],
   "source": [
    "from sklearn.metrics import balanced_accuracy_score"
   ]
  },
  {
   "cell_type": "code",
   "execution_count": 115,
   "id": "15031361",
   "metadata": {},
   "outputs": [
    {
     "data": {
      "text/plain": [
       "0.6305065548486601"
      ]
     },
     "execution_count": 115,
     "metadata": {},
     "output_type": "execute_result"
    }
   ],
   "source": [
    "balanced_accuracy_score(y_test, y_pred)"
   ]
  },
  {
   "cell_type": "code",
   "execution_count": 117,
   "id": "f2bdc9f3",
   "metadata": {
    "scrolled": true
   },
   "outputs": [
    {
     "data": {
      "text/plain": [
       "['modelo_clasificacion.pkl']"
      ]
     },
     "execution_count": 117,
     "metadata": {},
     "output_type": "execute_result"
    }
   ],
   "source": [
    "joblib.dump(rfc, 'modelo_clasificacion.pkl')"
   ]
  },
  {
   "cell_type": "code",
   "execution_count": 119,
   "id": "8861d902",
   "metadata": {},
   "outputs": [
    {
     "data": {
      "text/plain": [
       "Index(['FAMI_ESTRATOVIVIENDA_Estrato 1', 'FAMI_ESTRATOVIVIENDA_Estrato 2',\n",
       "       'FAMI_ESTRATOVIVIENDA_Estrato 3', 'FAMI_ESTRATOVIVIENDA_Estrato 4',\n",
       "       'FAMI_ESTRATOVIVIENDA_Estrato 5', 'FAMI_ESTRATOVIVIENDA_Estrato 6',\n",
       "       'FAMI_TIENEINTERNET_No', 'FAMI_TIENEINTERNET_Si',\n",
       "       'FAMI_SITUACIONECONOMICA_Igual', 'FAMI_SITUACIONECONOMICA_Mejor',\n",
       "       'FAMI_SITUACIONECONOMICA_Peor'],\n",
       "      dtype='object')"
      ]
     },
     "execution_count": 119,
     "metadata": {},
     "output_type": "execute_result"
    }
   ],
   "source": [
    "x_train.columns"
   ]
  },
  {
   "cell_type": "code",
   "execution_count": 152,
   "id": "192099e6",
   "metadata": {},
   "outputs": [],
   "source": [
    "estrato_elegido, internet_elegido, situacion_elegida = \"Estrato 6\", True, \"Mejor\""
   ]
  },
  {
   "cell_type": "code",
   "execution_count": 149,
   "id": "54bdda55",
   "metadata": {},
   "outputs": [
    {
     "data": {
      "text/html": [
       "<div>\n",
       "<style scoped>\n",
       "    .dataframe tbody tr th:only-of-type {\n",
       "        vertical-align: middle;\n",
       "    }\n",
       "\n",
       "    .dataframe tbody tr th {\n",
       "        vertical-align: top;\n",
       "    }\n",
       "\n",
       "    .dataframe thead th {\n",
       "        text-align: right;\n",
       "    }\n",
       "</style>\n",
       "<table border=\"1\" class=\"dataframe\">\n",
       "  <thead>\n",
       "    <tr style=\"text-align: right;\">\n",
       "      <th></th>\n",
       "      <th>FAMI_ESTRATOVIVIENDA</th>\n",
       "      <th>FAMI_TIENEINTERNET</th>\n",
       "      <th>FAMI_SITUACIONECONOMICA</th>\n",
       "    </tr>\n",
       "  </thead>\n",
       "  <tbody>\n",
       "    <tr>\n",
       "      <th>0</th>\n",
       "      <td>Estrato 6</td>\n",
       "      <td>False</td>\n",
       "      <td>Mejor</td>\n",
       "    </tr>\n",
       "  </tbody>\n",
       "</table>\n",
       "</div>"
      ],
      "text/plain": [
       "  FAMI_ESTRATOVIVIENDA  FAMI_TIENEINTERNET FAMI_SITUACIONECONOMICA\n",
       "0            Estrato 6               False                   Mejor"
      ]
     },
     "execution_count": 149,
     "metadata": {},
     "output_type": "execute_result"
    }
   ],
   "source": [
    "pd.DataFrame(data = [[estrato_elegido, internet_elegido, situacion_elegida]], \n",
    "             columns = ['FAMI_ESTRATOVIVIENDA', 'FAMI_TIENEINTERNET', 'FAMI_SITUACIONECONOMICA' ])"
   ]
  },
  {
   "cell_type": "code",
   "execution_count": 154,
   "id": "139b461b",
   "metadata": {},
   "outputs": [],
   "source": [
    "estratos_bin=[int(f'FAMI_ESTRATOVIVIENDA_{estrato_elegido}'==x) for x in ['FAMI_ESTRATOVIVIENDA_Estrato 1', \n",
    "                                                              'FAMI_ESTRATOVIVIENDA_Estrato 2',\n",
    "       'FAMI_ESTRATOVIVIENDA_Estrato 3', 'FAMI_ESTRATOVIVIENDA_Estrato 4',\n",
    "       'FAMI_ESTRATOVIVIENDA_Estrato 5', 'FAMI_ESTRATOVIVIENDA_Estrato 6'] ]\n",
    "internet_bin= [0,1] if internet_elegido else [1,0]\n",
    "situa_bin =[int(f'FAMI_SITUACIONECONOMICA_{situacion_elegida}'==x) for x in [ 'FAMI_SITUACIONECONOMICA_Igual', 'FAMI_SITUACIONECONOMICA_Mejor',\n",
    "       'FAMI_SITUACIONECONOMICA_Peor'] ]"
   ]
  },
  {
   "cell_type": "code",
   "execution_count": 155,
   "id": "41c86242",
   "metadata": {},
   "outputs": [
    {
     "data": {
      "text/html": [
       "<div>\n",
       "<style scoped>\n",
       "    .dataframe tbody tr th:only-of-type {\n",
       "        vertical-align: middle;\n",
       "    }\n",
       "\n",
       "    .dataframe tbody tr th {\n",
       "        vertical-align: top;\n",
       "    }\n",
       "\n",
       "    .dataframe thead th {\n",
       "        text-align: right;\n",
       "    }\n",
       "</style>\n",
       "<table border=\"1\" class=\"dataframe\">\n",
       "  <thead>\n",
       "    <tr style=\"text-align: right;\">\n",
       "      <th></th>\n",
       "      <th>FAMI_ESTRATOVIVIENDA_Estrato 1</th>\n",
       "      <th>FAMI_ESTRATOVIVIENDA_Estrato 2</th>\n",
       "      <th>FAMI_ESTRATOVIVIENDA_Estrato 3</th>\n",
       "      <th>FAMI_ESTRATOVIVIENDA_Estrato 4</th>\n",
       "      <th>FAMI_ESTRATOVIVIENDA_Estrato 5</th>\n",
       "      <th>FAMI_ESTRATOVIVIENDA_Estrato 6</th>\n",
       "      <th>FAMI_TIENEINTERNET_No</th>\n",
       "      <th>FAMI_TIENEINTERNET_Si</th>\n",
       "      <th>FAMI_SITUACIONECONOMICA_Igual</th>\n",
       "      <th>FAMI_SITUACIONECONOMICA_Mejor</th>\n",
       "      <th>FAMI_SITUACIONECONOMICA_Peor</th>\n",
       "    </tr>\n",
       "  </thead>\n",
       "  <tbody>\n",
       "    <tr>\n",
       "      <th>0</th>\n",
       "      <td>0</td>\n",
       "      <td>0</td>\n",
       "      <td>0</td>\n",
       "      <td>0</td>\n",
       "      <td>0</td>\n",
       "      <td>1</td>\n",
       "      <td>0</td>\n",
       "      <td>1</td>\n",
       "      <td>0</td>\n",
       "      <td>1</td>\n",
       "      <td>0</td>\n",
       "    </tr>\n",
       "  </tbody>\n",
       "</table>\n",
       "</div>"
      ],
      "text/plain": [
       "   FAMI_ESTRATOVIVIENDA_Estrato 1  FAMI_ESTRATOVIVIENDA_Estrato 2  \\\n",
       "0                               0                               0   \n",
       "\n",
       "   FAMI_ESTRATOVIVIENDA_Estrato 3  FAMI_ESTRATOVIVIENDA_Estrato 4  \\\n",
       "0                               0                               0   \n",
       "\n",
       "   FAMI_ESTRATOVIVIENDA_Estrato 5  FAMI_ESTRATOVIVIENDA_Estrato 6  \\\n",
       "0                               0                               1   \n",
       "\n",
       "   FAMI_TIENEINTERNET_No  FAMI_TIENEINTERNET_Si  \\\n",
       "0                      0                      1   \n",
       "\n",
       "   FAMI_SITUACIONECONOMICA_Igual  FAMI_SITUACIONECONOMICA_Mejor  \\\n",
       "0                              0                              1   \n",
       "\n",
       "   FAMI_SITUACIONECONOMICA_Peor  \n",
       "0                             0  "
      ]
     },
     "execution_count": 155,
     "metadata": {},
     "output_type": "execute_result"
    }
   ],
   "source": [
    "data_cols=['FAMI_ESTRATOVIVIENDA_Estrato 1', 'FAMI_ESTRATOVIVIENDA_Estrato 2',\n",
    "       'FAMI_ESTRATOVIVIENDA_Estrato 3', 'FAMI_ESTRATOVIVIENDA_Estrato 4',\n",
    "       'FAMI_ESTRATOVIVIENDA_Estrato 5', 'FAMI_ESTRATOVIVIENDA_Estrato 6',\n",
    "       'FAMI_TIENEINTERNET_No', 'FAMI_TIENEINTERNET_Si',\n",
    "       'FAMI_SITUACIONECONOMICA_Igual', 'FAMI_SITUACIONECONOMICA_Mejor',\n",
    "       'FAMI_SITUACIONECONOMICA_Peor']\n",
    "data_pred= pd.DataFrame(columns=data_cols, data = [[*estratos_bin, *internet_bin, *situa_bin]])\n",
    "data_pred"
   ]
  },
  {
   "cell_type": "code",
   "execution_count": 147,
   "id": "64d869bf",
   "metadata": {},
   "outputs": [
    {
     "data": {
      "text/plain": [
       "('Estrato 1', 'Estrato 2', 'Estrato 3', 'Estrato 4', 'Estrato 5', 'Estrato 6')"
      ]
     },
     "execution_count": 147,
     "metadata": {},
     "output_type": "execute_result"
    }
   ],
   "source": [
    " tuple([f'Estrato {x}' for x in range(1,7)])"
   ]
  }
 ],
 "metadata": {
  "kernelspec": {
   "display_name": "Python 3",
   "language": "python",
   "name": "python3"
  },
  "language_info": {
   "codemirror_mode": {
    "name": "ipython",
    "version": 3
   },
   "file_extension": ".py",
   "mimetype": "text/x-python",
   "name": "python",
   "nbconvert_exporter": "python",
   "pygments_lexer": "ipython3",
   "version": "3.11.5"
  },
  "varInspector": {
   "cols": {
    "lenName": 16,
    "lenType": 16,
    "lenVar": 40
   },
   "kernels_config": {
    "python": {
     "delete_cmd_postfix": "",
     "delete_cmd_prefix": "del ",
     "library": "var_list.py",
     "varRefreshCmd": "print(var_dic_list())"
    },
    "r": {
     "delete_cmd_postfix": ") ",
     "delete_cmd_prefix": "rm(",
     "library": "var_list.r",
     "varRefreshCmd": "cat(var_dic_list()) "
    }
   },
   "types_to_exclude": [
    "module",
    "function",
    "builtin_function_or_method",
    "instance",
    "_Feature"
   ],
   "window_display": false
  }
 },
 "nbformat": 4,
 "nbformat_minor": 5
}
